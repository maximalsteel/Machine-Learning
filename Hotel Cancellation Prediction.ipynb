{
 "cells": [
  {
   "cell_type": "code",
   "execution_count": 1,
   "id": "a6e48f79",
   "metadata": {},
   "outputs": [],
   "source": [
    "import numpy as np\n",
    "import pandas as pd\n",
    "import seaborn as sns\n",
    "import matplotlib.pyplot as plt\n",
    "\n",
    "import warnings\n",
    "warnings.filterwarnings('ignore')"
   ]
  },
  {
   "cell_type": "code",
   "execution_count": 2,
   "id": "8b4446be",
   "metadata": {},
   "outputs": [],
   "source": [
    "past_data = pd.read_csv('INNHotelsGroup_pastdata.csv')\n",
    "new_data = pd.read_csv('INNHotelsGroup_newdata.csv')"
   ]
  },
  {
   "cell_type": "code",
   "execution_count": 3,
   "id": "1876dad0",
   "metadata": {},
   "outputs": [
    {
     "data": {
      "text/plain": [
       "(27093, 12)"
      ]
     },
     "execution_count": 3,
     "metadata": {},
     "output_type": "execute_result"
    }
   ],
   "source": [
    "past_data.shape"
   ]
  },
  {
   "cell_type": "code",
   "execution_count": 4,
   "id": "7a6553c4",
   "metadata": {},
   "outputs": [
    {
     "data": {
      "text/plain": [
       "(3583, 11)"
      ]
     },
     "execution_count": 4,
     "metadata": {},
     "output_type": "execute_result"
    }
   ],
   "source": [
    "new_data.shape"
   ]
  },
  {
   "cell_type": "markdown",
   "id": "92d804a9",
   "metadata": {},
   "source": [
    "### Descriptive Statistics"
   ]
  },
  {
   "cell_type": "code",
   "execution_count": 5,
   "id": "6cbbff65",
   "metadata": {},
   "outputs": [
    {
     "data": {
      "text/html": [
       "<div>\n",
       "<style scoped>\n",
       "    .dataframe tbody tr th:only-of-type {\n",
       "        vertical-align: middle;\n",
       "    }\n",
       "\n",
       "    .dataframe tbody tr th {\n",
       "        vertical-align: top;\n",
       "    }\n",
       "\n",
       "    .dataframe thead th {\n",
       "        text-align: right;\n",
       "    }\n",
       "</style>\n",
       "<table border=\"1\" class=\"dataframe\">\n",
       "  <thead>\n",
       "    <tr style=\"text-align: right;\">\n",
       "      <th></th>\n",
       "      <th>count</th>\n",
       "      <th>mean</th>\n",
       "      <th>std</th>\n",
       "      <th>min</th>\n",
       "      <th>25%</th>\n",
       "      <th>50%</th>\n",
       "      <th>75%</th>\n",
       "      <th>max</th>\n",
       "    </tr>\n",
       "  </thead>\n",
       "  <tbody>\n",
       "    <tr>\n",
       "      <th>lead_time</th>\n",
       "      <td>27093.0</td>\n",
       "      <td>81.605249</td>\n",
       "      <td>84.901428</td>\n",
       "      <td>0.0</td>\n",
       "      <td>14.0</td>\n",
       "      <td>55.0</td>\n",
       "      <td>118.0</td>\n",
       "      <td>443.0</td>\n",
       "    </tr>\n",
       "    <tr>\n",
       "      <th>no_of_special_requests</th>\n",
       "      <td>27093.0</td>\n",
       "      <td>0.556454</td>\n",
       "      <td>0.743715</td>\n",
       "      <td>0.0</td>\n",
       "      <td>0.0</td>\n",
       "      <td>0.0</td>\n",
       "      <td>1.0</td>\n",
       "      <td>5.0</td>\n",
       "    </tr>\n",
       "    <tr>\n",
       "      <th>avg_price_per_room</th>\n",
       "      <td>27093.0</td>\n",
       "      <td>101.025910</td>\n",
       "      <td>34.557289</td>\n",
       "      <td>0.0</td>\n",
       "      <td>79.0</td>\n",
       "      <td>97.0</td>\n",
       "      <td>119.0</td>\n",
       "      <td>540.0</td>\n",
       "    </tr>\n",
       "    <tr>\n",
       "      <th>no_of_adults</th>\n",
       "      <td>27093.0</td>\n",
       "      <td>1.825822</td>\n",
       "      <td>0.512182</td>\n",
       "      <td>0.0</td>\n",
       "      <td>2.0</td>\n",
       "      <td>2.0</td>\n",
       "      <td>2.0</td>\n",
       "      <td>4.0</td>\n",
       "    </tr>\n",
       "    <tr>\n",
       "      <th>no_of_weekend_nights</th>\n",
       "      <td>27093.0</td>\n",
       "      <td>0.778319</td>\n",
       "      <td>0.861787</td>\n",
       "      <td>0.0</td>\n",
       "      <td>0.0</td>\n",
       "      <td>1.0</td>\n",
       "      <td>1.0</td>\n",
       "      <td>6.0</td>\n",
       "    </tr>\n",
       "    <tr>\n",
       "      <th>required_car_parking_space</th>\n",
       "      <td>27093.0</td>\n",
       "      <td>0.028864</td>\n",
       "      <td>0.167426</td>\n",
       "      <td>0.0</td>\n",
       "      <td>0.0</td>\n",
       "      <td>0.0</td>\n",
       "      <td>0.0</td>\n",
       "      <td>1.0</td>\n",
       "    </tr>\n",
       "    <tr>\n",
       "      <th>no_of_week_nights</th>\n",
       "      <td>27093.0</td>\n",
       "      <td>2.171373</td>\n",
       "      <td>1.386023</td>\n",
       "      <td>0.0</td>\n",
       "      <td>1.0</td>\n",
       "      <td>2.0</td>\n",
       "      <td>3.0</td>\n",
       "      <td>17.0</td>\n",
       "    </tr>\n",
       "  </tbody>\n",
       "</table>\n",
       "</div>"
      ],
      "text/plain": [
       "                              count        mean        std  min   25%   50%  \\\n",
       "lead_time                   27093.0   81.605249  84.901428  0.0  14.0  55.0   \n",
       "no_of_special_requests      27093.0    0.556454   0.743715  0.0   0.0   0.0   \n",
       "avg_price_per_room          27093.0  101.025910  34.557289  0.0  79.0  97.0   \n",
       "no_of_adults                27093.0    1.825822   0.512182  0.0   2.0   2.0   \n",
       "no_of_weekend_nights        27093.0    0.778319   0.861787  0.0   0.0   1.0   \n",
       "required_car_parking_space  27093.0    0.028864   0.167426  0.0   0.0   0.0   \n",
       "no_of_week_nights           27093.0    2.171373   1.386023  0.0   1.0   2.0   \n",
       "\n",
       "                              75%    max  \n",
       "lead_time                   118.0  443.0  \n",
       "no_of_special_requests        1.0    5.0  \n",
       "avg_price_per_room          119.0  540.0  \n",
       "no_of_adults                  2.0    4.0  \n",
       "no_of_weekend_nights          1.0    6.0  \n",
       "required_car_parking_space    0.0    1.0  \n",
       "no_of_week_nights             3.0   17.0  "
      ]
     },
     "execution_count": 5,
     "metadata": {},
     "output_type": "execute_result"
    }
   ],
   "source": [
    "past_data.describe().T"
   ]
  },
  {
   "cell_type": "code",
   "execution_count": 6,
   "id": "c798508a",
   "metadata": {},
   "outputs": [
    {
     "data": {
      "text/html": [
       "<div>\n",
       "<style scoped>\n",
       "    .dataframe tbody tr th:only-of-type {\n",
       "        vertical-align: middle;\n",
       "    }\n",
       "\n",
       "    .dataframe tbody tr th {\n",
       "        vertical-align: top;\n",
       "    }\n",
       "\n",
       "    .dataframe thead th {\n",
       "        text-align: right;\n",
       "    }\n",
       "</style>\n",
       "<table border=\"1\" class=\"dataframe\">\n",
       "  <thead>\n",
       "    <tr style=\"text-align: right;\">\n",
       "      <th></th>\n",
       "      <th>count</th>\n",
       "      <th>unique</th>\n",
       "      <th>top</th>\n",
       "      <th>freq</th>\n",
       "    </tr>\n",
       "  </thead>\n",
       "  <tbody>\n",
       "    <tr>\n",
       "      <th>booking_id</th>\n",
       "      <td>27093</td>\n",
       "      <td>27093</td>\n",
       "      <td>INNHG_101034</td>\n",
       "      <td>1</td>\n",
       "    </tr>\n",
       "    <tr>\n",
       "      <th>market_segment_type</th>\n",
       "      <td>27093</td>\n",
       "      <td>2</td>\n",
       "      <td>Online</td>\n",
       "      <td>18456</td>\n",
       "    </tr>\n",
       "    <tr>\n",
       "      <th>arrival_date</th>\n",
       "      <td>27093</td>\n",
       "      <td>439</td>\n",
       "      <td>2021-03-19</td>\n",
       "      <td>279</td>\n",
       "    </tr>\n",
       "    <tr>\n",
       "      <th>booking_status</th>\n",
       "      <td>27093</td>\n",
       "      <td>2</td>\n",
       "      <td>Not Canceled</td>\n",
       "      <td>18236</td>\n",
       "    </tr>\n",
       "    <tr>\n",
       "      <th>rebooked</th>\n",
       "      <td>8857</td>\n",
       "      <td>2</td>\n",
       "      <td>No</td>\n",
       "      <td>7092</td>\n",
       "    </tr>\n",
       "  </tbody>\n",
       "</table>\n",
       "</div>"
      ],
      "text/plain": [
       "                     count unique           top   freq\n",
       "booking_id           27093  27093  INNHG_101034      1\n",
       "market_segment_type  27093      2        Online  18456\n",
       "arrival_date         27093    439    2021-03-19    279\n",
       "booking_status       27093      2  Not Canceled  18236\n",
       "rebooked              8857      2            No   7092"
      ]
     },
     "execution_count": 6,
     "metadata": {},
     "output_type": "execute_result"
    }
   ],
   "source": [
    "past_data.describe(include='object').T"
   ]
  },
  {
   "cell_type": "code",
   "execution_count": 7,
   "id": "93179499",
   "metadata": {},
   "outputs": [
    {
     "data": {
      "image/png": "[encoded data removed]",
      "text/plain": [
       "<Figure size 432x288 with 2 Axes>"
      ]
     },
     "metadata": {
      "needs_background": "light"
     },
     "output_type": "display_data"
    }
   ],
   "source": [
    "# Correlation heat map\n",
    "sns.heatmap(past_data.corr(),annot=True,vmax=1,vmin=-1,cmap='rainbow')\n",
    "plt.show()"
   ]
  },
  {
   "cell_type": "code",
   "execution_count": 8,
   "id": "7ce894cd",
   "metadata": {},
   "outputs": [
    {
     "data": {
      "text/plain": [
       "booking_id                     object\n",
       "lead_time                       int64\n",
       "market_segment_type            object\n",
       "no_of_special_requests          int64\n",
       "avg_price_per_room            float64\n",
       "no_of_adults                    int64\n",
       "no_of_weekend_nights            int64\n",
       "arrival_date                   object\n",
       "required_car_parking_space      int64\n",
       "no_of_week_nights               int64\n",
       "booking_status                 object\n",
       "rebooked                       object\n",
       "dtype: object"
      ]
     },
     "execution_count": 8,
     "metadata": {},
     "output_type": "execute_result"
    }
   ],
   "source": [
    "# We need to assing correct datatypes to columns\n",
    "past_data.dtypes"
   ]
  },
  {
   "cell_type": "code",
   "execution_count": 9,
   "id": "147156db",
   "metadata": {},
   "outputs": [],
   "source": [
    "actual_y = new_data['booking_status']"
   ]
  },
  {
   "cell_type": "code",
   "execution_count": 10,
   "id": "b324967b",
   "metadata": {},
   "outputs": [],
   "source": [
    "new_data.drop(columns=['booking_status'],inplace=True)"
   ]
  },
  {
   "cell_type": "code",
   "execution_count": 11,
   "id": "87671a45",
   "metadata": {},
   "outputs": [
    {
     "data": {
      "text/html": [
       "<div>\n",
       "<style scoped>\n",
       "    .dataframe tbody tr th:only-of-type {\n",
       "        vertical-align: middle;\n",
       "    }\n",
       "\n",
       "    .dataframe tbody tr th {\n",
       "        vertical-align: top;\n",
       "    }\n",
       "\n",
       "    .dataframe thead th {\n",
       "        text-align: right;\n",
       "    }\n",
       "</style>\n",
       "<table border=\"1\" class=\"dataframe\">\n",
       "  <thead>\n",
       "    <tr style=\"text-align: right;\">\n",
       "      <th></th>\n",
       "      <th>booking_id</th>\n",
       "      <th>lead_time</th>\n",
       "      <th>market_segment_type</th>\n",
       "      <th>no_of_special_requests</th>\n",
       "      <th>avg_price_per_room</th>\n",
       "      <th>no_of_adults</th>\n",
       "      <th>no_of_weekend_nights</th>\n",
       "      <th>arrival_date</th>\n",
       "      <th>required_car_parking_space</th>\n",
       "      <th>no_of_week_nights</th>\n",
       "    </tr>\n",
       "  </thead>\n",
       "  <tbody>\n",
       "    <tr>\n",
       "      <th>0</th>\n",
       "      <td>INNHG_128127</td>\n",
       "      <td>4</td>\n",
       "      <td>Online</td>\n",
       "      <td>1</td>\n",
       "      <td>103.00</td>\n",
       "      <td>1</td>\n",
       "      <td>0</td>\n",
       "      <td>2022-07-01</td>\n",
       "      <td>1</td>\n",
       "      <td>1</td>\n",
       "    </tr>\n",
       "    <tr>\n",
       "      <th>1</th>\n",
       "      <td>INNHG_128128</td>\n",
       "      <td>147</td>\n",
       "      <td>Online</td>\n",
       "      <td>2</td>\n",
       "      <td>103.70</td>\n",
       "      <td>2</td>\n",
       "      <td>2</td>\n",
       "      <td>2022-07-01</td>\n",
       "      <td>0</td>\n",
       "      <td>2</td>\n",
       "    </tr>\n",
       "    <tr>\n",
       "      <th>2</th>\n",
       "      <td>INNHG_128129</td>\n",
       "      <td>43</td>\n",
       "      <td>Online</td>\n",
       "      <td>1</td>\n",
       "      <td>126.90</td>\n",
       "      <td>2</td>\n",
       "      <td>1</td>\n",
       "      <td>2022-07-01</td>\n",
       "      <td>1</td>\n",
       "      <td>2</td>\n",
       "    </tr>\n",
       "    <tr>\n",
       "      <th>3</th>\n",
       "      <td>INNHG_128130</td>\n",
       "      <td>145</td>\n",
       "      <td>Offline</td>\n",
       "      <td>0</td>\n",
       "      <td>72.76</td>\n",
       "      <td>2</td>\n",
       "      <td>0</td>\n",
       "      <td>2022-07-01</td>\n",
       "      <td>0</td>\n",
       "      <td>1</td>\n",
       "    </tr>\n",
       "    <tr>\n",
       "      <th>4</th>\n",
       "      <td>INNHG_128131</td>\n",
       "      <td>86</td>\n",
       "      <td>Offline</td>\n",
       "      <td>1</td>\n",
       "      <td>107.69</td>\n",
       "      <td>2</td>\n",
       "      <td>1</td>\n",
       "      <td>2022-07-01</td>\n",
       "      <td>0</td>\n",
       "      <td>2</td>\n",
       "    </tr>\n",
       "  </tbody>\n",
       "</table>\n",
       "</div>"
      ],
      "text/plain": [
       "     booking_id  lead_time market_segment_type  no_of_special_requests  \\\n",
       "0  INNHG_128127          4              Online                       1   \n",
       "1  INNHG_128128        147              Online                       2   \n",
       "2  INNHG_128129         43              Online                       1   \n",
       "3  INNHG_128130        145             Offline                       0   \n",
       "4  INNHG_128131         86             Offline                       1   \n",
       "\n",
       "   avg_price_per_room  no_of_adults  no_of_weekend_nights arrival_date  \\\n",
       "0              103.00             1                     0   2022-07-01   \n",
       "1              103.70             2                     2   2022-07-01   \n",
       "2              126.90             2                     1   2022-07-01   \n",
       "3               72.76             2                     0   2022-07-01   \n",
       "4              107.69             2                     1   2022-07-01   \n",
       "\n",
       "   required_car_parking_space  no_of_week_nights  \n",
       "0                           1                  1  \n",
       "1                           0                  2  \n",
       "2                           1                  2  \n",
       "3                           0                  1  \n",
       "4                           0                  2  "
      ]
     },
     "execution_count": 11,
     "metadata": {},
     "output_type": "execute_result"
    }
   ],
   "source": [
    "new_data.head()"
   ]
  },
  {
   "cell_type": "code",
   "execution_count": 12,
   "id": "13f2a728",
   "metadata": {},
   "outputs": [],
   "source": [
    "data = pd.concat([past_data,new_data],axis=0)"
   ]
  },
  {
   "cell_type": "code",
   "execution_count": 13,
   "id": "020b9421",
   "metadata": {},
   "outputs": [
    {
     "data": {
      "text/html": [
       "<div>\n",
       "<style scoped>\n",
       "    .dataframe tbody tr th:only-of-type {\n",
       "        vertical-align: middle;\n",
       "    }\n",
       "\n",
       "    .dataframe tbody tr th {\n",
       "        vertical-align: top;\n",
       "    }\n",
       "\n",
       "    .dataframe thead th {\n",
       "        text-align: right;\n",
       "    }\n",
       "</style>\n",
       "<table border=\"1\" class=\"dataframe\">\n",
       "  <thead>\n",
       "    <tr style=\"text-align: right;\">\n",
       "      <th></th>\n",
       "      <th>booking_id</th>\n",
       "      <th>lead_time</th>\n",
       "      <th>market_segment_type</th>\n",
       "      <th>no_of_special_requests</th>\n",
       "      <th>avg_price_per_room</th>\n",
       "      <th>no_of_adults</th>\n",
       "      <th>no_of_weekend_nights</th>\n",
       "      <th>arrival_date</th>\n",
       "      <th>required_car_parking_space</th>\n",
       "      <th>no_of_week_nights</th>\n",
       "      <th>booking_status</th>\n",
       "      <th>rebooked</th>\n",
       "    </tr>\n",
       "  </thead>\n",
       "  <tbody>\n",
       "    <tr>\n",
       "      <th>0</th>\n",
       "      <td>INNHG_101034</td>\n",
       "      <td>0</td>\n",
       "      <td>Online</td>\n",
       "      <td>0</td>\n",
       "      <td>85.03</td>\n",
       "      <td>1</td>\n",
       "      <td>1</td>\n",
       "      <td>2021-01-01</td>\n",
       "      <td>0</td>\n",
       "      <td>0</td>\n",
       "      <td>Not Canceled</td>\n",
       "      <td>NaN</td>\n",
       "    </tr>\n",
       "    <tr>\n",
       "      <th>1</th>\n",
       "      <td>INNHG_101035</td>\n",
       "      <td>34</td>\n",
       "      <td>Online</td>\n",
       "      <td>2</td>\n",
       "      <td>125.10</td>\n",
       "      <td>2</td>\n",
       "      <td>2</td>\n",
       "      <td>2021-01-01</td>\n",
       "      <td>0</td>\n",
       "      <td>0</td>\n",
       "      <td>Not Canceled</td>\n",
       "      <td>NaN</td>\n",
       "    </tr>\n",
       "    <tr>\n",
       "      <th>2</th>\n",
       "      <td>INNHG_101036</td>\n",
       "      <td>24</td>\n",
       "      <td>Online</td>\n",
       "      <td>1</td>\n",
       "      <td>71.69</td>\n",
       "      <td>2</td>\n",
       "      <td>2</td>\n",
       "      <td>2021-01-01</td>\n",
       "      <td>0</td>\n",
       "      <td>0</td>\n",
       "      <td>Not Canceled</td>\n",
       "      <td>NaN</td>\n",
       "    </tr>\n",
       "    <tr>\n",
       "      <th>3</th>\n",
       "      <td>INNHG_101037</td>\n",
       "      <td>23</td>\n",
       "      <td>Online</td>\n",
       "      <td>0</td>\n",
       "      <td>84.70</td>\n",
       "      <td>1</td>\n",
       "      <td>2</td>\n",
       "      <td>2021-01-01</td>\n",
       "      <td>0</td>\n",
       "      <td>0</td>\n",
       "      <td>Not Canceled</td>\n",
       "      <td>NaN</td>\n",
       "    </tr>\n",
       "    <tr>\n",
       "      <th>4</th>\n",
       "      <td>INNHG_101038</td>\n",
       "      <td>46</td>\n",
       "      <td>Online</td>\n",
       "      <td>1</td>\n",
       "      <td>149.40</td>\n",
       "      <td>2</td>\n",
       "      <td>2</td>\n",
       "      <td>2021-01-01</td>\n",
       "      <td>0</td>\n",
       "      <td>3</td>\n",
       "      <td>Canceled</td>\n",
       "      <td>No</td>\n",
       "    </tr>\n",
       "    <tr>\n",
       "      <th>...</th>\n",
       "      <td>...</td>\n",
       "      <td>...</td>\n",
       "      <td>...</td>\n",
       "      <td>...</td>\n",
       "      <td>...</td>\n",
       "      <td>...</td>\n",
       "      <td>...</td>\n",
       "      <td>...</td>\n",
       "      <td>...</td>\n",
       "      <td>...</td>\n",
       "      <td>...</td>\n",
       "      <td>...</td>\n",
       "    </tr>\n",
       "    <tr>\n",
       "      <th>3578</th>\n",
       "      <td>INNHG_131705</td>\n",
       "      <td>258</td>\n",
       "      <td>Online</td>\n",
       "      <td>1</td>\n",
       "      <td>106.20</td>\n",
       "      <td>2</td>\n",
       "      <td>0</td>\n",
       "      <td>2022-09-29</td>\n",
       "      <td>0</td>\n",
       "      <td>1</td>\n",
       "      <td>NaN</td>\n",
       "      <td>NaN</td>\n",
       "    </tr>\n",
       "    <tr>\n",
       "      <th>3579</th>\n",
       "      <td>INNHG_131706</td>\n",
       "      <td>263</td>\n",
       "      <td>Online</td>\n",
       "      <td>0</td>\n",
       "      <td>100.30</td>\n",
       "      <td>2</td>\n",
       "      <td>2</td>\n",
       "      <td>2022-09-29</td>\n",
       "      <td>0</td>\n",
       "      <td>4</td>\n",
       "      <td>NaN</td>\n",
       "      <td>NaN</td>\n",
       "    </tr>\n",
       "    <tr>\n",
       "      <th>3580</th>\n",
       "      <td>INNHG_131707</td>\n",
       "      <td>185</td>\n",
       "      <td>Online</td>\n",
       "      <td>2</td>\n",
       "      <td>116.10</td>\n",
       "      <td>2</td>\n",
       "      <td>2</td>\n",
       "      <td>2022-09-29</td>\n",
       "      <td>0</td>\n",
       "      <td>3</td>\n",
       "      <td>NaN</td>\n",
       "      <td>NaN</td>\n",
       "    </tr>\n",
       "    <tr>\n",
       "      <th>3581</th>\n",
       "      <td>INNHG_131708</td>\n",
       "      <td>214</td>\n",
       "      <td>Online</td>\n",
       "      <td>0</td>\n",
       "      <td>120.90</td>\n",
       "      <td>2</td>\n",
       "      <td>0</td>\n",
       "      <td>2022-09-29</td>\n",
       "      <td>0</td>\n",
       "      <td>3</td>\n",
       "      <td>NaN</td>\n",
       "      <td>NaN</td>\n",
       "    </tr>\n",
       "    <tr>\n",
       "      <th>3582</th>\n",
       "      <td>INNHG_131709</td>\n",
       "      <td>193</td>\n",
       "      <td>Online</td>\n",
       "      <td>1</td>\n",
       "      <td>93.09</td>\n",
       "      <td>2</td>\n",
       "      <td>0</td>\n",
       "      <td>2022-09-29</td>\n",
       "      <td>0</td>\n",
       "      <td>3</td>\n",
       "      <td>NaN</td>\n",
       "      <td>NaN</td>\n",
       "    </tr>\n",
       "  </tbody>\n",
       "</table>\n",
       "<p>30676 rows × 12 columns</p>\n",
       "</div>"
      ],
      "text/plain": [
       "        booking_id  lead_time market_segment_type  no_of_special_requests  \\\n",
       "0     INNHG_101034          0              Online                       0   \n",
       "1     INNHG_101035         34              Online                       2   \n",
       "2     INNHG_101036         24              Online                       1   \n",
       "3     INNHG_101037         23              Online                       0   \n",
       "4     INNHG_101038         46              Online                       1   \n",
       "...            ...        ...                 ...                     ...   \n",
       "3578  INNHG_131705        258              Online                       1   \n",
       "3579  INNHG_131706        263              Online                       0   \n",
       "3580  INNHG_131707        185              Online                       2   \n",
       "3581  INNHG_131708        214              Online                       0   \n",
       "3582  INNHG_131709        193              Online                       1   \n",
       "\n",
       "      avg_price_per_room  no_of_adults  no_of_weekend_nights arrival_date  \\\n",
       "0                  85.03             1                     1   2021-01-01   \n",
       "1                 125.10             2                     2   2021-01-01   \n",
       "2                  71.69             2                     2   2021-01-01   \n",
       "3                  84.70             1                     2   2021-01-01   \n",
       "4                 149.40             2                     2   2021-01-01   \n",
       "...                  ...           ...                   ...          ...   \n",
       "3578              106.20             2                     0   2022-09-29   \n",
       "3579              100.30             2                     2   2022-09-29   \n",
       "3580              116.10             2                     2   2022-09-29   \n",
       "3581              120.90             2                     0   2022-09-29   \n",
       "3582               93.09             2                     0   2022-09-29   \n",
       "\n",
       "      required_car_parking_space  no_of_week_nights booking_status rebooked  \n",
       "0                              0                  0   Not Canceled      NaN  \n",
       "1                              0                  0   Not Canceled      NaN  \n",
       "2                              0                  0   Not Canceled      NaN  \n",
       "3                              0                  0   Not Canceled      NaN  \n",
       "4                              0                  3       Canceled       No  \n",
       "...                          ...                ...            ...      ...  \n",
       "3578                           0                  1            NaN      NaN  \n",
       "3579                           0                  4            NaN      NaN  \n",
       "3580                           0                  3            NaN      NaN  \n",
       "3581                           0                  3            NaN      NaN  \n",
       "3582                           0                  3            NaN      NaN  \n",
       "\n",
       "[30676 rows x 12 columns]"
      ]
     },
     "execution_count": 13,
     "metadata": {},
     "output_type": "execute_result"
    }
   ],
   "source": [
    "data"
   ]
  },
  {
   "cell_type": "code",
   "execution_count": 14,
   "id": "e2ebcf2f",
   "metadata": {},
   "outputs": [],
   "source": [
    "# Change the data type of arrival date to datetime\n",
    "data['arrival_date']=pd.to_datetime(data['arrival_date'],format='%Y-%m-%d')"
   ]
  },
  {
   "cell_type": "code",
   "execution_count": 15,
   "id": "faef0a76",
   "metadata": {},
   "outputs": [
    {
     "data": {
      "text/plain": [
       "booking_id                            object\n",
       "lead_time                              int64\n",
       "market_segment_type                   object\n",
       "no_of_special_requests                 int64\n",
       "avg_price_per_room                   float64\n",
       "no_of_adults                           int64\n",
       "no_of_weekend_nights                   int64\n",
       "arrival_date                  datetime64[ns]\n",
       "required_car_parking_space             int64\n",
       "no_of_week_nights                      int64\n",
       "booking_status                        object\n",
       "rebooked                              object\n",
       "dtype: object"
      ]
     },
     "execution_count": 15,
     "metadata": {},
     "output_type": "execute_result"
    }
   ],
   "source": [
    "data.dtypes"
   ]
  },
  {
   "cell_type": "code",
   "execution_count": 16,
   "id": "469cb946",
   "metadata": {},
   "outputs": [],
   "source": [
    "data['Arrival_day'] = data['arrival_date'].dt.day\n",
    "data['Arrival_month'] = data['arrival_date'].dt.month\n",
    "data['Arrival_weekday'] = data['arrival_date'].dt.weekday"
   ]
  },
  {
   "cell_type": "code",
   "execution_count": 17,
   "id": "572664bf",
   "metadata": {},
   "outputs": [
    {
     "data": {
      "text/html": [
       "<div>\n",
       "<style scoped>\n",
       "    .dataframe tbody tr th:only-of-type {\n",
       "        vertical-align: middle;\n",
       "    }\n",
       "\n",
       "    .dataframe tbody tr th {\n",
       "        vertical-align: top;\n",
       "    }\n",
       "\n",
       "    .dataframe thead th {\n",
       "        text-align: right;\n",
       "    }\n",
       "</style>\n",
       "<table border=\"1\" class=\"dataframe\">\n",
       "  <thead>\n",
       "    <tr style=\"text-align: right;\">\n",
       "      <th></th>\n",
       "      <th>booking_id</th>\n",
       "      <th>lead_time</th>\n",
       "      <th>market_segment_type</th>\n",
       "      <th>no_of_special_requests</th>\n",
       "      <th>avg_price_per_room</th>\n",
       "      <th>no_of_adults</th>\n",
       "      <th>no_of_weekend_nights</th>\n",
       "      <th>arrival_date</th>\n",
       "      <th>required_car_parking_space</th>\n",
       "      <th>no_of_week_nights</th>\n",
       "      <th>booking_status</th>\n",
       "      <th>rebooked</th>\n",
       "      <th>Arrival_day</th>\n",
       "      <th>Arrival_month</th>\n",
       "      <th>Arrival_weekday</th>\n",
       "    </tr>\n",
       "  </thead>\n",
       "  <tbody>\n",
       "    <tr>\n",
       "      <th>0</th>\n",
       "      <td>INNHG_101034</td>\n",
       "      <td>0</td>\n",
       "      <td>Online</td>\n",
       "      <td>0</td>\n",
       "      <td>85.03</td>\n",
       "      <td>1</td>\n",
       "      <td>1</td>\n",
       "      <td>2021-01-01</td>\n",
       "      <td>0</td>\n",
       "      <td>0</td>\n",
       "      <td>Not Canceled</td>\n",
       "      <td>NaN</td>\n",
       "      <td>1</td>\n",
       "      <td>1</td>\n",
       "      <td>4</td>\n",
       "    </tr>\n",
       "    <tr>\n",
       "      <th>1</th>\n",
       "      <td>INNHG_101035</td>\n",
       "      <td>34</td>\n",
       "      <td>Online</td>\n",
       "      <td>2</td>\n",
       "      <td>125.10</td>\n",
       "      <td>2</td>\n",
       "      <td>2</td>\n",
       "      <td>2021-01-01</td>\n",
       "      <td>0</td>\n",
       "      <td>0</td>\n",
       "      <td>Not Canceled</td>\n",
       "      <td>NaN</td>\n",
       "      <td>1</td>\n",
       "      <td>1</td>\n",
       "      <td>4</td>\n",
       "    </tr>\n",
       "    <tr>\n",
       "      <th>2</th>\n",
       "      <td>INNHG_101036</td>\n",
       "      <td>24</td>\n",
       "      <td>Online</td>\n",
       "      <td>1</td>\n",
       "      <td>71.69</td>\n",
       "      <td>2</td>\n",
       "      <td>2</td>\n",
       "      <td>2021-01-01</td>\n",
       "      <td>0</td>\n",
       "      <td>0</td>\n",
       "      <td>Not Canceled</td>\n",
       "      <td>NaN</td>\n",
       "      <td>1</td>\n",
       "      <td>1</td>\n",
       "      <td>4</td>\n",
       "    </tr>\n",
       "  </tbody>\n",
       "</table>\n",
       "</div>"
      ],
      "text/plain": [
       "     booking_id  lead_time market_segment_type  no_of_special_requests  \\\n",
       "0  INNHG_101034          0              Online                       0   \n",
       "1  INNHG_101035         34              Online                       2   \n",
       "2  INNHG_101036         24              Online                       1   \n",
       "\n",
       "   avg_price_per_room  no_of_adults  no_of_weekend_nights arrival_date  \\\n",
       "0               85.03             1                     1   2021-01-01   \n",
       "1              125.10             2                     2   2021-01-01   \n",
       "2               71.69             2                     2   2021-01-01   \n",
       "\n",
       "   required_car_parking_space  no_of_week_nights booking_status rebooked  \\\n",
       "0                           0                  0   Not Canceled      NaN   \n",
       "1                           0                  0   Not Canceled      NaN   \n",
       "2                           0                  0   Not Canceled      NaN   \n",
       "\n",
       "   Arrival_day  Arrival_month  Arrival_weekday  \n",
       "0            1              1                4  \n",
       "1            1              1                4  \n",
       "2            1              1                4  "
      ]
     },
     "execution_count": 17,
     "metadata": {},
     "output_type": "execute_result"
    }
   ],
   "source": [
    "data.head(3)"
   ]
  },
  {
   "cell_type": "code",
   "execution_count": 18,
   "id": "a2260a2e",
   "metadata": {},
   "outputs": [],
   "source": [
    "# Drop Booking ID and Arrival Date"
   ]
  },
  {
   "cell_type": "code",
   "execution_count": 19,
   "id": "df658cf7",
   "metadata": {},
   "outputs": [],
   "source": [
    "data.drop(columns=['booking_id','arrival_date'],inplace=True)"
   ]
  },
  {
   "cell_type": "code",
   "execution_count": 20,
   "id": "ce555d8a",
   "metadata": {},
   "outputs": [
    {
     "data": {
      "text/html": [
       "<div>\n",
       "<style scoped>\n",
       "    .dataframe tbody tr th:only-of-type {\n",
       "        vertical-align: middle;\n",
       "    }\n",
       "\n",
       "    .dataframe tbody tr th {\n",
       "        vertical-align: top;\n",
       "    }\n",
       "\n",
       "    .dataframe thead th {\n",
       "        text-align: right;\n",
       "    }\n",
       "</style>\n",
       "<table border=\"1\" class=\"dataframe\">\n",
       "  <thead>\n",
       "    <tr style=\"text-align: right;\">\n",
       "      <th></th>\n",
       "      <th>lead_time</th>\n",
       "      <th>market_segment_type</th>\n",
       "      <th>no_of_special_requests</th>\n",
       "      <th>avg_price_per_room</th>\n",
       "      <th>no_of_adults</th>\n",
       "      <th>no_of_weekend_nights</th>\n",
       "      <th>required_car_parking_space</th>\n",
       "      <th>no_of_week_nights</th>\n",
       "      <th>booking_status</th>\n",
       "      <th>rebooked</th>\n",
       "      <th>Arrival_day</th>\n",
       "      <th>Arrival_month</th>\n",
       "      <th>Arrival_weekday</th>\n",
       "    </tr>\n",
       "  </thead>\n",
       "  <tbody>\n",
       "    <tr>\n",
       "      <th>0</th>\n",
       "      <td>0</td>\n",
       "      <td>Online</td>\n",
       "      <td>0</td>\n",
       "      <td>85.03</td>\n",
       "      <td>1</td>\n",
       "      <td>1</td>\n",
       "      <td>0</td>\n",
       "      <td>0</td>\n",
       "      <td>Not Canceled</td>\n",
       "      <td>NaN</td>\n",
       "      <td>1</td>\n",
       "      <td>1</td>\n",
       "      <td>4</td>\n",
       "    </tr>\n",
       "    <tr>\n",
       "      <th>1</th>\n",
       "      <td>34</td>\n",
       "      <td>Online</td>\n",
       "      <td>2</td>\n",
       "      <td>125.10</td>\n",
       "      <td>2</td>\n",
       "      <td>2</td>\n",
       "      <td>0</td>\n",
       "      <td>0</td>\n",
       "      <td>Not Canceled</td>\n",
       "      <td>NaN</td>\n",
       "      <td>1</td>\n",
       "      <td>1</td>\n",
       "      <td>4</td>\n",
       "    </tr>\n",
       "    <tr>\n",
       "      <th>2</th>\n",
       "      <td>24</td>\n",
       "      <td>Online</td>\n",
       "      <td>1</td>\n",
       "      <td>71.69</td>\n",
       "      <td>2</td>\n",
       "      <td>2</td>\n",
       "      <td>0</td>\n",
       "      <td>0</td>\n",
       "      <td>Not Canceled</td>\n",
       "      <td>NaN</td>\n",
       "      <td>1</td>\n",
       "      <td>1</td>\n",
       "      <td>4</td>\n",
       "    </tr>\n",
       "    <tr>\n",
       "      <th>3</th>\n",
       "      <td>23</td>\n",
       "      <td>Online</td>\n",
       "      <td>0</td>\n",
       "      <td>84.70</td>\n",
       "      <td>1</td>\n",
       "      <td>2</td>\n",
       "      <td>0</td>\n",
       "      <td>0</td>\n",
       "      <td>Not Canceled</td>\n",
       "      <td>NaN</td>\n",
       "      <td>1</td>\n",
       "      <td>1</td>\n",
       "      <td>4</td>\n",
       "    </tr>\n",
       "    <tr>\n",
       "      <th>4</th>\n",
       "      <td>46</td>\n",
       "      <td>Online</td>\n",
       "      <td>1</td>\n",
       "      <td>149.40</td>\n",
       "      <td>2</td>\n",
       "      <td>2</td>\n",
       "      <td>0</td>\n",
       "      <td>3</td>\n",
       "      <td>Canceled</td>\n",
       "      <td>No</td>\n",
       "      <td>1</td>\n",
       "      <td>1</td>\n",
       "      <td>4</td>\n",
       "    </tr>\n",
       "  </tbody>\n",
       "</table>\n",
       "</div>"
      ],
      "text/plain": [
       "   lead_time market_segment_type  no_of_special_requests  avg_price_per_room  \\\n",
       "0          0              Online                       0               85.03   \n",
       "1         34              Online                       2              125.10   \n",
       "2         24              Online                       1               71.69   \n",
       "3         23              Online                       0               84.70   \n",
       "4         46              Online                       1              149.40   \n",
       "\n",
       "   no_of_adults  no_of_weekend_nights  required_car_parking_space  \\\n",
       "0             1                     1                           0   \n",
       "1             2                     2                           0   \n",
       "2             2                     2                           0   \n",
       "3             1                     2                           0   \n",
       "4             2                     2                           0   \n",
       "\n",
       "   no_of_week_nights booking_status rebooked  Arrival_day  Arrival_month  \\\n",
       "0                  0   Not Canceled      NaN            1              1   \n",
       "1                  0   Not Canceled      NaN            1              1   \n",
       "2                  0   Not Canceled      NaN            1              1   \n",
       "3                  0   Not Canceled      NaN            1              1   \n",
       "4                  3       Canceled       No            1              1   \n",
       "\n",
       "   Arrival_weekday  \n",
       "0                4  \n",
       "1                4  \n",
       "2                4  \n",
       "3                4  \n",
       "4                4  "
      ]
     },
     "execution_count": 20,
     "metadata": {},
     "output_type": "execute_result"
    }
   ],
   "source": [
    "data.head()"
   ]
  },
  {
   "cell_type": "markdown",
   "id": "b188c64a",
   "metadata": {},
   "source": [
    "### Data Analysis"
   ]
  },
  {
   "cell_type": "code",
   "execution_count": 21,
   "id": "df89c00a",
   "metadata": {},
   "outputs": [
    {
     "data": {
      "text/plain": [
       "Index(['lead_time', 'market_segment_type', 'no_of_special_requests',\n",
       "       'avg_price_per_room', 'no_of_adults', 'no_of_weekend_nights',\n",
       "       'required_car_parking_space', 'no_of_week_nights', 'booking_status',\n",
       "       'rebooked', 'Arrival_day', 'Arrival_month', 'Arrival_weekday'],\n",
       "      dtype='object')"
      ]
     },
     "execution_count": 21,
     "metadata": {},
     "output_type": "execute_result"
    }
   ],
   "source": [
    "data.columns"
   ]
  },
  {
   "cell_type": "code",
   "execution_count": 22,
   "id": "ee24658a",
   "metadata": {},
   "outputs": [],
   "source": [
    "num_cols = ['lead_time','avg_price_per_room','Arrival_day']\n",
    "cat_cols = ['market_segment_type','no_of_special_requests',\n",
    "            'no_of_adults','no_of_weekend_nights',\n",
    "            'required_car_parking_space','no_of_week_nights',\n",
    "            'booking_status','rebooked','Arrival_month','Arrival_weekday']"
   ]
  },
  {
   "cell_type": "markdown",
   "id": "3367d48c",
   "metadata": {},
   "source": [
    "#### Univariate Analysis"
   ]
  },
  {
   "cell_type": "code",
   "execution_count": 23,
   "id": "9efe7e3f",
   "metadata": {},
   "outputs": [
    {
     "data": {
      "image/png": "[encoded data removed]",
      "text/plain": [
       "<Figure size 720x504 with 3 Axes>"
      ]
     },
     "metadata": {
      "needs_background": "light"
     },
     "output_type": "display_data"
    }
   ],
   "source": [
    "t =1\n",
    "plt.figure(figsize=(10,7))\n",
    "for i in num_cols:\n",
    "    plt.subplot(2,2,t)\n",
    "    sns.distplot(data[i])\n",
    "    t+=1\n",
    "plt.tight_layout()\n",
    "plt.show()"
   ]
  },
  {
   "cell_type": "code",
   "execution_count": 24,
   "id": "390add8f",
   "metadata": {},
   "outputs": [
    {
     "data": {
      "image/png": "[encoded data removed]",
      "text/plain": [
       "<Figure size 720x504 with 3 Axes>"
      ]
     },
     "metadata": {
      "needs_background": "light"
     },
     "output_type": "display_data"
    }
   ],
   "source": [
    "t =1\n",
    "plt.figure(figsize=(10,7))\n",
    "for i in num_cols:\n",
    "    plt.subplot(2,2,t)\n",
    "    sns.boxplot(x=data[i],orient='h')\n",
    "    t+=1\n",
    "plt.tight_layout()\n",
    "plt.show()"
   ]
  },
  {
   "cell_type": "code",
   "execution_count": 25,
   "id": "23e1518f",
   "metadata": {},
   "outputs": [
    {
     "data": {
      "image/png": "[encoded data removed]",
      "text/plain": [
       "<Figure size 432x288 with 1 Axes>"
      ]
     },
     "metadata": {},
     "output_type": "display_data"
    },
    {
     "data": {
      "image/png": "[encoded data removed]",
      "text/plain": [
       "<Figure size 432x288 with 1 Axes>"
      ]
     },
     "metadata": {},
     "output_type": "display_data"
    },
    {
     "data": {
      "image/png": "[encoded data removed]",
      "text/plain": [
       "<Figure size 432x288 with 1 Axes>"
      ]
     },
     "metadata": {},
     "output_type": "display_data"
    },
    {
     "data": {
      "image/png": "[encoded data removed]",
      "text/plain": [
       "<Figure size 432x288 with 1 Axes>"
      ]
     },
     "metadata": {},
     "output_type": "display_data"
    },
    {
     "data": {
      "image/png": "[encoded data removed]",
      "text/plain": [
       "<Figure size 432x288 with 1 Axes>"
      ]
     },
     "metadata": {},
     "output_type": "display_data"
    },
    {
     "data": {
      "image/png": "[encoded data removed]",
      "text/plain": [
       "<Figure size 432x288 with 1 Axes>"
      ]
     },
     "metadata": {},
     "output_type": "display_data"
    },
    {
     "data": {
      "image/png": "[encoded data removed]",
      "text/plain": [
       "<Figure size 432x288 with 1 Axes>"
      ]
     },
     "metadata": {},
     "output_type": "display_data"
    },
    {
     "data": {
      "image/png": "[encoded data removed]",
      "text/plain": [
       "<Figure size 432x288 with 1 Axes>"
      ]
     },
     "metadata": {},
     "output_type": "display_data"
    },
    {
     "data": {
      "image/png": "[encoded data removed]",
      "text/plain": [
       "<Figure size 432x288 with 1 Axes>"
      ]
     },
     "metadata": {},
     "output_type": "display_data"
    },
    {
     "data": {
      "image/png": "[encoded data removed]",
      "text/plain": [
       "<Figure size 432x288 with 1 Axes>"
      ]
     },
     "metadata": {},
     "output_type": "display_data"
    }
   ],
   "source": [
    "for i in cat_cols:\n",
    "    data[i].value_counts().plot(kind='pie',autopct='%.2f%%',radius=1.5)\n",
    "    plt.show()"
   ]
  },
  {
   "cell_type": "code",
   "execution_count": 26,
   "id": "6c9a0291",
   "metadata": {},
   "outputs": [],
   "source": [
    "# Explore rebooked data"
   ]
  },
  {
   "cell_type": "code",
   "execution_count": 27,
   "id": "0e4c7346",
   "metadata": {},
   "outputs": [
    {
     "data": {
      "text/plain": [
       "booking_status  rebooked\n",
       "Canceled        No          7092\n",
       "                Yes         1765\n",
       "Name: rebooked, dtype: int64"
      ]
     },
     "execution_count": 27,
     "metadata": {},
     "output_type": "execute_result"
    }
   ],
   "source": [
    "data.groupby(by=['booking_status','rebooked'])['rebooked'].count()"
   ]
  },
  {
   "cell_type": "code",
   "execution_count": 28,
   "id": "a7059b55",
   "metadata": {},
   "outputs": [
    {
     "data": {
      "text/plain": [
       "No     0.800723\n",
       "Yes    0.199277\n",
       "Name: rebooked, dtype: float64"
      ]
     },
     "execution_count": 28,
     "metadata": {},
     "output_type": "execute_result"
    }
   ],
   "source": [
    "data['rebooked'].value_counts(normalize=True)"
   ]
  },
  {
   "cell_type": "code",
   "execution_count": 29,
   "id": "7882600b",
   "metadata": {},
   "outputs": [
    {
     "data": {
      "text/plain": [
       "<AxesSubplot:xlabel='booking_status'>"
      ]
     },
     "execution_count": 29,
     "metadata": {},
     "output_type": "execute_result"
    },
    {
     "data": {
      "image/png": "[encoded data removed]",
      "text/plain": [
       "<Figure size 432x288 with 1 Axes>"
      ]
     },
     "metadata": {
      "needs_background": "light"
     },
     "output_type": "display_data"
    }
   ],
   "source": [
    "pd.crosstab(data['booking_status'],data['rebooked']).plot(kind='bar')"
   ]
  },
  {
   "cell_type": "markdown",
   "id": "5e9f729c",
   "metadata": {},
   "source": [
    "#### Bivariate Analysis"
   ]
  },
  {
   "cell_type": "code",
   "execution_count": 30,
   "id": "7835791b",
   "metadata": {},
   "outputs": [],
   "source": [
    "# Num vs category"
   ]
  },
  {
   "cell_type": "code",
   "execution_count": 31,
   "id": "9d22be2e",
   "metadata": {},
   "outputs": [
    {
     "data": {
      "text/plain": [
       "<seaborn.axisgrid.FacetGrid at 0x24ba6e65850>"
      ]
     },
     "execution_count": 31,
     "metadata": {},
     "output_type": "execute_result"
    },
    {
     "data": {
      "image/png": "[encoded data removed]",
      "text/plain": [
       "<Figure size 462.875x360 with 1 Axes>"
      ]
     },
     "metadata": {
      "needs_background": "light"
     },
     "output_type": "display_data"
    }
   ],
   "source": [
    "sns.displot(x=data['lead_time'],kind='kde',hue=data['booking_status'])"
   ]
  },
  {
   "cell_type": "code",
   "execution_count": 32,
   "id": "9ed950e1",
   "metadata": {},
   "outputs": [
    {
     "data": {
      "text/plain": [
       "<seaborn.axisgrid.FacetGrid at 0x24ba6b76a00>"
      ]
     },
     "execution_count": 32,
     "metadata": {},
     "output_type": "execute_result"
    },
    {
     "data": {
      "image/png": "[encoded data removed]",
      "text/plain": [
       "<Figure size 462.875x360 with 1 Axes>"
      ]
     },
     "metadata": {
      "needs_background": "light"
     },
     "output_type": "display_data"
    }
   ],
   "source": [
    "sns.displot(x=data['avg_price_per_room'],kind='kde',hue=data['booking_status'])"
   ]
  },
  {
   "cell_type": "code",
   "execution_count": 33,
   "id": "006db307",
   "metadata": {},
   "outputs": [
    {
     "data": {
      "text/plain": [
       "<seaborn.axisgrid.FacetGrid at 0x24ba6b66910>"
      ]
     },
     "execution_count": 33,
     "metadata": {},
     "output_type": "execute_result"
    },
    {
     "data": {
      "image/png": "[encoded data removed]",
      "text/plain": [
       "<Figure size 462.875x360 with 1 Axes>"
      ]
     },
     "metadata": {
      "needs_background": "light"
     },
     "output_type": "display_data"
    }
   ],
   "source": [
    "sns.displot(x=data['Arrival_day'],kind='kde',hue=data['booking_status'])"
   ]
  },
  {
   "cell_type": "code",
   "execution_count": 34,
   "id": "7ace7b80",
   "metadata": {},
   "outputs": [
    {
     "data": {
      "text/plain": [
       "'0.12.2'"
      ]
     },
     "execution_count": 34,
     "metadata": {},
     "output_type": "execute_result"
    }
   ],
   "source": [
    "sns.__version__"
   ]
  },
  {
   "cell_type": "code",
   "execution_count": 35,
   "id": "d71444d8",
   "metadata": {},
   "outputs": [
    {
     "data": {
      "image/png": "[encoded data removed]",
      "text/plain": [
       "<Figure size 432x288 with 1 Axes>"
      ]
     },
     "metadata": {
      "needs_background": "light"
     },
     "output_type": "display_data"
    },
    {
     "data": {
      "image/png": "[encoded data removed]",
      "text/plain": [
       "<Figure size 432x288 with 1 Axes>"
      ]
     },
     "metadata": {
      "needs_background": "light"
     },
     "output_type": "display_data"
    },
    {
     "data": {
      "image/png": "[encoded data removed]",
      "text/plain": [
       "<Figure size 432x288 with 1 Axes>"
      ]
     },
     "metadata": {
      "needs_background": "light"
     },
     "output_type": "display_data"
    },
    {
     "data": {
      "image/png": "[encoded data removed]",
      "text/plain": [
       "<Figure size 432x288 with 1 Axes>"
      ]
     },
     "metadata": {
      "needs_background": "light"
     },
     "output_type": "display_data"
    },
    {
     "data": {
      "image/png": "[encoded data removed]",
      "text/plain": [
       "<Figure size 432x288 with 1 Axes>"
      ]
     },
     "metadata": {
      "needs_background": "light"
     },
     "output_type": "display_data"
    },
    {
     "data": {
      "image/png": "[encoded data removed]",
      "text/plain": [
       "<Figure size 432x288 with 1 Axes>"
      ]
     },
     "metadata": {
      "needs_background": "light"
     },
     "output_type": "display_data"
    },
    {
     "data": {
      "image/png": "[encoded data removed]",
      "text/plain": [
       "<Figure size 432x288 with 1 Axes>"
      ]
     },
     "metadata": {
      "needs_background": "light"
     },
     "output_type": "display_data"
    },
    {
     "data": {
      "image/png": "[encoded data removed]",
      "text/plain": [
       "<Figure size 432x288 with 1 Axes>"
      ]
     },
     "metadata": {
      "needs_background": "light"
     },
     "output_type": "display_data"
    },
    {
     "data": {
      "image/png": "[encoded data removed]",
      "text/plain": [
       "<Figure size 432x288 with 1 Axes>"
      ]
     },
     "metadata": {
      "needs_background": "light"
     },
     "output_type": "display_data"
    }
   ],
   "source": [
    "# Cat vs Cat (Grouped Bar Plot)\n",
    "for i in cat_cols:\n",
    "    if i != 'booking_status':\n",
    "        pd.crosstab(data[i],data['booking_status']).plot(kind='bar')\n",
    "        plt.show()"
   ]
  },
  {
   "cell_type": "markdown",
   "id": "50cbc223",
   "metadata": {},
   "source": [
    "#### Statistical Analysis (Inferential Statistics)"
   ]
  },
  {
   "cell_type": "code",
   "execution_count": 36,
   "id": "cf0b1fc3",
   "metadata": {},
   "outputs": [],
   "source": [
    "# Num Vs Cat"
   ]
  },
  {
   "cell_type": "code",
   "execution_count": 37,
   "id": "10352254",
   "metadata": {},
   "outputs": [],
   "source": [
    "import scipy.stats as stats"
   ]
  },
  {
   "cell_type": "code",
   "execution_count": 38,
   "id": "b4f6bee4",
   "metadata": {},
   "outputs": [
    {
     "data": {
      "text/plain": [
       "['lead_time', 'avg_price_per_room', 'Arrival_day']"
      ]
     },
     "execution_count": 38,
     "metadata": {},
     "output_type": "execute_result"
    }
   ],
   "source": [
    "num_cols"
   ]
  },
  {
   "cell_type": "code",
   "execution_count": 39,
   "id": "e91001dd",
   "metadata": {},
   "outputs": [],
   "source": [
    "# two sample t_test/ Mannwhitneyu\n",
    "# Ho: There is no relation between num col and booking status (Mu1 = Mu2)\n",
    "# Ha: There is relation between num col and booking status (Mu1 != Mu2)"
   ]
  },
  {
   "cell_type": "code",
   "execution_count": 40,
   "id": "34ae7842",
   "metadata": {},
   "outputs": [
    {
     "name": "stdout",
     "output_type": "stream",
     "text": [
      "ShapiroResult(statistic=0.858092188835144, pvalue=0.0)\n",
      "ShapiroResult(statistic=0.9544830918312073, pvalue=0.0)\n",
      "ShapiroResult(statistic=0.9567803740501404, pvalue=0.0)\n"
     ]
    }
   ],
   "source": [
    "# Assumptions (Normality)\n",
    "print(stats.shapiro(data['lead_time']))\n",
    "print(stats.shapiro(data['avg_price_per_room']))\n",
    "print(stats.shapiro(data['Arrival_day']))"
   ]
  },
  {
   "cell_type": "code",
   "execution_count": 41,
   "id": "93398ca5",
   "metadata": {},
   "outputs": [
    {
     "name": "stdout",
     "output_type": "stream",
     "text": [
      "lead_time : 0.0\n",
      "avg_price_per_room : 4.950381137183313e-216\n",
      "Arrival_day : 2.5710270847504093e-07\n"
     ]
    }
   ],
   "source": [
    "for i in num_cols:\n",
    "    samp1 = data[data['booking_status']=='Not Canceled'][i]\n",
    "    samp2 = data[data['booking_status']=='Canceled'][i]\n",
    "    print(i,':',stats.mannwhitneyu(samp1,samp2)[1])"
   ]
  },
  {
   "cell_type": "code",
   "execution_count": 42,
   "id": "b274ba90",
   "metadata": {},
   "outputs": [],
   "source": [
    "# All the p_values are less than 0.05 hence we reject Ho:"
   ]
  },
  {
   "cell_type": "code",
   "execution_count": 43,
   "id": "12b2a6f0",
   "metadata": {},
   "outputs": [],
   "source": [
    "# Cat vs cat"
   ]
  },
  {
   "cell_type": "code",
   "execution_count": 44,
   "id": "8a18cd1c",
   "metadata": {},
   "outputs": [
    {
     "name": "stdout",
     "output_type": "stream",
     "text": [
      "market_segment_type : 7.806389643886697e-11\n",
      "no_of_special_requests : 0.0\n",
      "no_of_adults : 1.4411855115006094e-73\n",
      "no_of_weekend_nights : 5.324997086476798e-43\n",
      "required_car_parking_space : 5.626905783478662e-49\n",
      "no_of_week_nights : 7.318602549508705e-65\n",
      "rebooked : 1.0\n",
      "Arrival_month : 0.0\n",
      "Arrival_weekday : 2.0528217585454624e-36\n"
     ]
    }
   ],
   "source": [
    "# Ho: categories have no relation\n",
    "# Ha: Categories have relation\n",
    "for i in cat_cols:\n",
    "    if i != 'booking_status':\n",
    "        table = pd.crosstab(data[i],data['booking_status'])\n",
    "        print(i,':',stats.chi2_contingency(table)[1])"
   ]
  },
  {
   "cell_type": "markdown",
   "id": "9329ec0e",
   "metadata": {},
   "source": [
    "### Data Preprocessing"
   ]
  },
  {
   "cell_type": "code",
   "execution_count": 45,
   "id": "c4fcb52f",
   "metadata": {},
   "outputs": [],
   "source": [
    "# We cannot include rebooking feature in model as, this information is \n",
    "# only available when the booking has been canceled, which we have to\n",
    "# predict.\n",
    "data.drop(columns=['rebooked'],inplace=True)"
   ]
  },
  {
   "cell_type": "code",
   "execution_count": 46,
   "id": "7a4a0dc9",
   "metadata": {},
   "outputs": [
    {
     "data": {
      "text/html": [
       "<div>\n",
       "<style scoped>\n",
       "    .dataframe tbody tr th:only-of-type {\n",
       "        vertical-align: middle;\n",
       "    }\n",
       "\n",
       "    .dataframe tbody tr th {\n",
       "        vertical-align: top;\n",
       "    }\n",
       "\n",
       "    .dataframe thead th {\n",
       "        text-align: right;\n",
       "    }\n",
       "</style>\n",
       "<table border=\"1\" class=\"dataframe\">\n",
       "  <thead>\n",
       "    <tr style=\"text-align: right;\">\n",
       "      <th></th>\n",
       "      <th>lead_time</th>\n",
       "      <th>market_segment_type</th>\n",
       "      <th>no_of_special_requests</th>\n",
       "      <th>avg_price_per_room</th>\n",
       "      <th>no_of_adults</th>\n",
       "      <th>no_of_weekend_nights</th>\n",
       "      <th>required_car_parking_space</th>\n",
       "      <th>no_of_week_nights</th>\n",
       "      <th>booking_status</th>\n",
       "      <th>Arrival_day</th>\n",
       "      <th>Arrival_month</th>\n",
       "      <th>Arrival_weekday</th>\n",
       "    </tr>\n",
       "  </thead>\n",
       "  <tbody>\n",
       "    <tr>\n",
       "      <th>0</th>\n",
       "      <td>0</td>\n",
       "      <td>Online</td>\n",
       "      <td>0</td>\n",
       "      <td>85.03</td>\n",
       "      <td>1</td>\n",
       "      <td>1</td>\n",
       "      <td>0</td>\n",
       "      <td>0</td>\n",
       "      <td>Not Canceled</td>\n",
       "      <td>1</td>\n",
       "      <td>1</td>\n",
       "      <td>4</td>\n",
       "    </tr>\n",
       "    <tr>\n",
       "      <th>1</th>\n",
       "      <td>34</td>\n",
       "      <td>Online</td>\n",
       "      <td>2</td>\n",
       "      <td>125.10</td>\n",
       "      <td>2</td>\n",
       "      <td>2</td>\n",
       "      <td>0</td>\n",
       "      <td>0</td>\n",
       "      <td>Not Canceled</td>\n",
       "      <td>1</td>\n",
       "      <td>1</td>\n",
       "      <td>4</td>\n",
       "    </tr>\n",
       "  </tbody>\n",
       "</table>\n",
       "</div>"
      ],
      "text/plain": [
       "   lead_time market_segment_type  no_of_special_requests  avg_price_per_room  \\\n",
       "0          0              Online                       0               85.03   \n",
       "1         34              Online                       2              125.10   \n",
       "\n",
       "   no_of_adults  no_of_weekend_nights  required_car_parking_space  \\\n",
       "0             1                     1                           0   \n",
       "1             2                     2                           0   \n",
       "\n",
       "   no_of_week_nights booking_status  Arrival_day  Arrival_month  \\\n",
       "0                  0   Not Canceled            1              1   \n",
       "1                  0   Not Canceled            1              1   \n",
       "\n",
       "   Arrival_weekday  \n",
       "0                4  \n",
       "1                4  "
      ]
     },
     "execution_count": 46,
     "metadata": {},
     "output_type": "execute_result"
    }
   ],
   "source": [
    "data.head(2)"
   ]
  },
  {
   "cell_type": "markdown",
   "id": "9639c091",
   "metadata": {},
   "source": [
    "#### Missing Values"
   ]
  },
  {
   "cell_type": "code",
   "execution_count": 47,
   "id": "71faa83d",
   "metadata": {},
   "outputs": [
    {
     "data": {
      "text/plain": [
       "lead_time                        0\n",
       "market_segment_type              0\n",
       "no_of_special_requests           0\n",
       "avg_price_per_room               0\n",
       "no_of_adults                     0\n",
       "no_of_weekend_nights             0\n",
       "required_car_parking_space       0\n",
       "no_of_week_nights                0\n",
       "booking_status                3583\n",
       "Arrival_day                      0\n",
       "Arrival_month                    0\n",
       "Arrival_weekday                  0\n",
       "dtype: int64"
      ]
     },
     "execution_count": 47,
     "metadata": {},
     "output_type": "execute_result"
    }
   ],
   "source": [
    "data.isnull().sum()"
   ]
  },
  {
   "cell_type": "code",
   "execution_count": 48,
   "id": "81f8dac8",
   "metadata": {},
   "outputs": [],
   "source": [
    "# There are no missing values"
   ]
  },
  {
   "cell_type": "markdown",
   "id": "bd41cafa",
   "metadata": {},
   "source": [
    "#### Outlier Treatment"
   ]
  },
  {
   "cell_type": "code",
   "execution_count": 49,
   "id": "2384e447",
   "metadata": {},
   "outputs": [],
   "source": [
    "train = data[data['booking_status'].notnull()]\n",
    "test = data[data['booking_status'].isnull()]"
   ]
  },
  {
   "cell_type": "code",
   "execution_count": 50,
   "id": "2aae5339",
   "metadata": {},
   "outputs": [
    {
     "data": {
      "text/plain": [
       "(27093, 12)"
      ]
     },
     "execution_count": 50,
     "metadata": {},
     "output_type": "execute_result"
    }
   ],
   "source": [
    "train.shape"
   ]
  },
  {
   "cell_type": "code",
   "execution_count": 51,
   "id": "e190dc09",
   "metadata": {},
   "outputs": [
    {
     "data": {
      "text/plain": [
       "(3583, 12)"
      ]
     },
     "execution_count": 51,
     "metadata": {},
     "output_type": "execute_result"
    }
   ],
   "source": [
    "test.shape"
   ]
  },
  {
   "cell_type": "code",
   "execution_count": 52,
   "id": "78019d32",
   "metadata": {},
   "outputs": [],
   "source": [
    "# Remove/ capping the outliers\n",
    "for i in num_cols:\n",
    "    q1,q3 = np.quantile(train[i],[0.25,0.75])\n",
    "    iqr = q3-q1\n",
    "    ul,ll = q3+2.5*iqr, q1-2.5*iqr\n",
    "    train[i] = np.where(train[i]>ul,ul,train[i])\n",
    "    train[i] = np.where(train[i]<ll,ll,train[i])"
   ]
  },
  {
   "cell_type": "code",
   "execution_count": 53,
   "id": "09e83113",
   "metadata": {},
   "outputs": [
    {
     "data": {
      "image/png": "[encoded data removed]",
      "text/plain": [
       "<Figure size 720x504 with 3 Axes>"
      ]
     },
     "metadata": {
      "needs_background": "light"
     },
     "output_type": "display_data"
    }
   ],
   "source": [
    "t =1\n",
    "plt.figure(figsize=(10,7))\n",
    "for i in num_cols:\n",
    "    plt.subplot(2,2,t)\n",
    "    sns.boxplot(x=train[i],orient='h')\n",
    "    t+=1\n",
    "plt.tight_layout()\n",
    "plt.show()"
   ]
  },
  {
   "cell_type": "markdown",
   "id": "d4c1252b",
   "metadata": {},
   "source": [
    "#### Encoding"
   ]
  },
  {
   "cell_type": "code",
   "execution_count": 54,
   "id": "2962c3cc",
   "metadata": {},
   "outputs": [
    {
     "data": {
      "text/html": [
       "<div>\n",
       "<style scoped>\n",
       "    .dataframe tbody tr th:only-of-type {\n",
       "        vertical-align: middle;\n",
       "    }\n",
       "\n",
       "    .dataframe tbody tr th {\n",
       "        vertical-align: top;\n",
       "    }\n",
       "\n",
       "    .dataframe thead th {\n",
       "        text-align: right;\n",
       "    }\n",
       "</style>\n",
       "<table border=\"1\" class=\"dataframe\">\n",
       "  <thead>\n",
       "    <tr style=\"text-align: right;\">\n",
       "      <th></th>\n",
       "      <th>lead_time</th>\n",
       "      <th>market_segment_type</th>\n",
       "      <th>no_of_special_requests</th>\n",
       "      <th>avg_price_per_room</th>\n",
       "      <th>no_of_adults</th>\n",
       "      <th>no_of_weekend_nights</th>\n",
       "      <th>required_car_parking_space</th>\n",
       "      <th>no_of_week_nights</th>\n",
       "      <th>booking_status</th>\n",
       "      <th>Arrival_day</th>\n",
       "      <th>Arrival_month</th>\n",
       "      <th>Arrival_weekday</th>\n",
       "    </tr>\n",
       "  </thead>\n",
       "  <tbody>\n",
       "    <tr>\n",
       "      <th>0</th>\n",
       "      <td>0.0</td>\n",
       "      <td>Online</td>\n",
       "      <td>0</td>\n",
       "      <td>85.03</td>\n",
       "      <td>1</td>\n",
       "      <td>1</td>\n",
       "      <td>0</td>\n",
       "      <td>0</td>\n",
       "      <td>Not Canceled</td>\n",
       "      <td>1.0</td>\n",
       "      <td>1</td>\n",
       "      <td>4</td>\n",
       "    </tr>\n",
       "    <tr>\n",
       "      <th>1</th>\n",
       "      <td>34.0</td>\n",
       "      <td>Online</td>\n",
       "      <td>2</td>\n",
       "      <td>125.10</td>\n",
       "      <td>2</td>\n",
       "      <td>2</td>\n",
       "      <td>0</td>\n",
       "      <td>0</td>\n",
       "      <td>Not Canceled</td>\n",
       "      <td>1.0</td>\n",
       "      <td>1</td>\n",
       "      <td>4</td>\n",
       "    </tr>\n",
       "  </tbody>\n",
       "</table>\n",
       "</div>"
      ],
      "text/plain": [
       "   lead_time market_segment_type  no_of_special_requests  avg_price_per_room  \\\n",
       "0        0.0              Online                       0               85.03   \n",
       "1       34.0              Online                       2              125.10   \n",
       "\n",
       "   no_of_adults  no_of_weekend_nights  required_car_parking_space  \\\n",
       "0             1                     1                           0   \n",
       "1             2                     2                           0   \n",
       "\n",
       "   no_of_week_nights booking_status  Arrival_day  Arrival_month  \\\n",
       "0                  0   Not Canceled          1.0              1   \n",
       "1                  0   Not Canceled          1.0              1   \n",
       "\n",
       "   Arrival_weekday  \n",
       "0                4  \n",
       "1                4  "
      ]
     },
     "execution_count": 54,
     "metadata": {},
     "output_type": "execute_result"
    }
   ],
   "source": [
    "train.head(2)"
   ]
  },
  {
   "cell_type": "code",
   "execution_count": 55,
   "id": "ed2f62cc",
   "metadata": {},
   "outputs": [],
   "source": [
    "train['booking_status']  = train['booking_status']\\\n",
    ".map({'Canceled':1,'Not Canceled':0})\n"
   ]
  },
  {
   "cell_type": "code",
   "execution_count": 56,
   "id": "1b4f4cc9",
   "metadata": {},
   "outputs": [],
   "source": [
    "train = pd.get_dummies(train,drop_first=True,dtype=int)\n",
    "test = pd.get_dummies(test,drop_first=True,dtype=int)"
   ]
  },
  {
   "cell_type": "code",
   "execution_count": 57,
   "id": "bcfdf9fb",
   "metadata": {},
   "outputs": [
    {
     "data": {
      "text/plain": [
       "(27093, 12)"
      ]
     },
     "execution_count": 57,
     "metadata": {},
     "output_type": "execute_result"
    }
   ],
   "source": [
    "train.shape"
   ]
  },
  {
   "cell_type": "code",
   "execution_count": 58,
   "id": "69ac050d",
   "metadata": {},
   "outputs": [
    {
     "data": {
      "text/plain": [
       "(3583, 11)"
      ]
     },
     "execution_count": 58,
     "metadata": {},
     "output_type": "execute_result"
    }
   ],
   "source": [
    "test.shape"
   ]
  },
  {
   "cell_type": "markdown",
   "id": "82b91202",
   "metadata": {},
   "source": [
    "#### Train test split"
   ]
  },
  {
   "cell_type": "code",
   "execution_count": 59,
   "id": "bbc82d24",
   "metadata": {},
   "outputs": [],
   "source": [
    "x_test = test\n",
    "y_test = actual_y.map({'Canceled':1,'Not Canceled':0})\n",
    "\n",
    "x_train = train.drop(columns=['booking_status'])\n",
    "y_train = train['booking_status']"
   ]
  },
  {
   "cell_type": "code",
   "execution_count": 60,
   "id": "3e3cf975",
   "metadata": {},
   "outputs": [
    {
     "name": "stdout",
     "output_type": "stream",
     "text": [
      "(27093, 11) (27093,) (3583, 11) (3583,)\n"
     ]
    }
   ],
   "source": [
    "print(x_train.shape,y_train.shape,x_test.shape,y_test.shape)"
   ]
  },
  {
   "cell_type": "markdown",
   "id": "f143cb23",
   "metadata": {},
   "source": [
    "### Predictive Modelling"
   ]
  },
  {
   "cell_type": "code",
   "execution_count": 61,
   "id": "8775cb21",
   "metadata": {},
   "outputs": [],
   "source": [
    "from sklearn.linear_model import LogisticRegression\n",
    "from sklearn.naive_bayes import GaussianNB\n",
    "from sklearn.neighbors import KNeighborsClassifier\n",
    "from sklearn.tree import DecisionTreeClassifier\n",
    "from sklearn.ensemble import BaggingClassifier,RandomForestClassifier\n",
    "from sklearn.ensemble import AdaBoostClassifier, GradientBoostingClassifier\n",
    "from xgboost import XGBClassifier\n",
    "from sklearn.ensemble import VotingClassifier,StackingClassifier\n",
    "\n",
    "from sklearn.metrics import classification_report,confusion_matrix,cohen_kappa_score\n",
    "from sklearn.metrics import roc_auc_score,roc_curve\n",
    "from sklearn.metrics import accuracy_score,precision_score,recall_score,f1_score"
   ]
  },
  {
   "cell_type": "code",
   "execution_count": 62,
   "id": "c5687625",
   "metadata": {},
   "outputs": [],
   "source": [
    "mod = []\n",
    "accu = []\n",
    "prec = []\n",
    "rec = []\n",
    "f1 = []\n",
    "kappa = []\n",
    "\n",
    "\n",
    "def model_validation(model,xtrain,ytrain,xtest,ytest):\n",
    "    m = model\n",
    "    m.fit(xtrain,ytrain)\n",
    "    pred_h = m.predict(xtest)\n",
    "    pred_s = m.predict_proba(xtest)[:,1]\n",
    "    \n",
    "    print('Confusion Matrix\\n',confusion_matrix(ytest,pred_h))\n",
    "    print('Classification Report\\n',classification_report(ytest,pred_h))\n",
    "    \n",
    "    fpr,tpr,thresh = roc_curve(ytest,pred_s)\n",
    "    plt.plot(fpr,tpr)\n",
    "    plt.plot([0,1],[0,1],ls='--',color='red')\n",
    "    plt.title(f'ROC AUC {round(roc_auc_score(ytest,pred_s),2)}')\n",
    "    plt.show()\n",
    "    \n",
    "    response = input('Do you want to save a model Y/N?')\n",
    "    \n",
    "    if response.lower()=='y':\n",
    "        global scorecard\n",
    "        mod.append(str(model))\n",
    "        accu.append(accuracy_score(ytest,pred_h))\n",
    "        rec.append(recall_score(ytest,pred_h))\n",
    "        prec.append(precision_score(ytest,pred_h))\n",
    "        f1.append(f1_score(ytest,pred_h))\n",
    "        kappa.append(cohen_kappa_score(ytest,pred_h))\n",
    "\n",
    "        scorecard = pd.DataFrame({'Model':mod,\n",
    "                                 'Accuracy':accu,\n",
    "                                 'Precision':prec,\n",
    "                                 'Recall':rec,\n",
    "                                 'F1 Score':f1,\n",
    "                                 'Cohen Kappa':kappa})\n",
    "    else:\n",
    "        return"
   ]
  },
  {
   "cell_type": "markdown",
   "id": "9e035075",
   "metadata": {},
   "source": [
    "### Logistic regression"
   ]
  },
  {
   "cell_type": "code",
   "execution_count": 63,
   "id": "d9121819",
   "metadata": {},
   "outputs": [
    {
     "name": "stdout",
     "output_type": "stream",
     "text": [
      "Confusion Matrix\n",
      " [[2158  225]\n",
      " [ 573  627]]\n",
      "Classification Report\n",
      "               precision    recall  f1-score   support\n",
      "\n",
      "           0       0.79      0.91      0.84      2383\n",
      "           1       0.74      0.52      0.61      1200\n",
      "\n",
      "    accuracy                           0.78      3583\n",
      "   macro avg       0.76      0.71      0.73      3583\n",
      "weighted avg       0.77      0.78      0.77      3583\n",
      "\n"
     ]
    },
    {
     "data": {
      "image/png": "[encoded data removed]",
      "text/plain": [
       "<Figure size 432x288 with 1 Axes>"
      ]
     },
     "metadata": {
      "needs_background": "light"
     },
     "output_type": "display_data"
    },
    {
     "name": "stdout",
     "output_type": "stream",
     "text": [
      "Do you want to save a model Y/N?y\n"
     ]
    }
   ],
   "source": [
    "model_validation(LogisticRegression(),x_train,y_train,x_test,y_test)"
   ]
  },
  {
   "cell_type": "code",
   "execution_count": 64,
   "id": "74ae5daa",
   "metadata": {},
   "outputs": [
    {
     "data": {
      "text/html": [
       "<div>\n",
       "<style scoped>\n",
       "    .dataframe tbody tr th:only-of-type {\n",
       "        vertical-align: middle;\n",
       "    }\n",
       "\n",
       "    .dataframe tbody tr th {\n",
       "        vertical-align: top;\n",
       "    }\n",
       "\n",
       "    .dataframe thead th {\n",
       "        text-align: right;\n",
       "    }\n",
       "</style>\n",
       "<table border=\"1\" class=\"dataframe\">\n",
       "  <thead>\n",
       "    <tr style=\"text-align: right;\">\n",
       "      <th></th>\n",
       "      <th>Model</th>\n",
       "      <th>Accuracy</th>\n",
       "      <th>Precision</th>\n",
       "      <th>Recall</th>\n",
       "      <th>F1 Score</th>\n",
       "      <th>Cohen Kappa</th>\n",
       "    </tr>\n",
       "  </thead>\n",
       "  <tbody>\n",
       "    <tr>\n",
       "      <th>0</th>\n",
       "      <td>LogisticRegression()</td>\n",
       "      <td>0.777282</td>\n",
       "      <td>0.735915</td>\n",
       "      <td>0.5225</td>\n",
       "      <td>0.611111</td>\n",
       "      <td>0.461286</td>\n",
       "    </tr>\n",
       "  </tbody>\n",
       "</table>\n",
       "</div>"
      ],
      "text/plain": [
       "                  Model  Accuracy  Precision  Recall  F1 Score  Cohen Kappa\n",
       "0  LogisticRegression()  0.777282   0.735915  0.5225  0.611111     0.461286"
      ]
     },
     "execution_count": 64,
     "metadata": {},
     "output_type": "execute_result"
    }
   ],
   "source": [
    "scorecard"
   ]
  },
  {
   "cell_type": "markdown",
   "id": "34fe9cbf",
   "metadata": {},
   "source": [
    "### Naive Bayes"
   ]
  },
  {
   "cell_type": "code",
   "execution_count": 65,
   "id": "c9eca439",
   "metadata": {},
   "outputs": [
    {
     "name": "stdout",
     "output_type": "stream",
     "text": [
      "Confusion Matrix\n",
      " [[1917  466]\n",
      " [ 518  682]]\n",
      "Classification Report\n",
      "               precision    recall  f1-score   support\n",
      "\n",
      "           0       0.79      0.80      0.80      2383\n",
      "           1       0.59      0.57      0.58      1200\n",
      "\n",
      "    accuracy                           0.73      3583\n",
      "   macro avg       0.69      0.69      0.69      3583\n",
      "weighted avg       0.72      0.73      0.72      3583\n",
      "\n"
     ]
    },
    {
     "data": {
      "image/png": "[encoded data removed]",
      "text/plain": [
       "<Figure size 432x288 with 1 Axes>"
      ]
     },
     "metadata": {
      "needs_background": "light"
     },
     "output_type": "display_data"
    },
    {
     "name": "stdout",
     "output_type": "stream",
     "text": [
      "Do you want to save a model Y/N?y\n"
     ]
    }
   ],
   "source": [
    "model_validation(GaussianNB(),x_train,y_train,x_test,y_test)"
   ]
  },
  {
   "cell_type": "code",
   "execution_count": 66,
   "id": "3cc1e47b",
   "metadata": {},
   "outputs": [
    {
     "data": {
      "text/html": [
       "<div>\n",
       "<style scoped>\n",
       "    .dataframe tbody tr th:only-of-type {\n",
       "        vertical-align: middle;\n",
       "    }\n",
       "\n",
       "    .dataframe tbody tr th {\n",
       "        vertical-align: top;\n",
       "    }\n",
       "\n",
       "    .dataframe thead th {\n",
       "        text-align: right;\n",
       "    }\n",
       "</style>\n",
       "<table border=\"1\" class=\"dataframe\">\n",
       "  <thead>\n",
       "    <tr style=\"text-align: right;\">\n",
       "      <th></th>\n",
       "      <th>Model</th>\n",
       "      <th>Accuracy</th>\n",
       "      <th>Precision</th>\n",
       "      <th>Recall</th>\n",
       "      <th>F1 Score</th>\n",
       "      <th>Cohen Kappa</th>\n",
       "    </tr>\n",
       "  </thead>\n",
       "  <tbody>\n",
       "    <tr>\n",
       "      <th>0</th>\n",
       "      <td>LogisticRegression()</td>\n",
       "      <td>0.777282</td>\n",
       "      <td>0.735915</td>\n",
       "      <td>0.522500</td>\n",
       "      <td>0.611111</td>\n",
       "      <td>0.461286</td>\n",
       "    </tr>\n",
       "    <tr>\n",
       "      <th>1</th>\n",
       "      <td>GaussianNB()</td>\n",
       "      <td>0.725370</td>\n",
       "      <td>0.594077</td>\n",
       "      <td>0.568333</td>\n",
       "      <td>0.580920</td>\n",
       "      <td>0.376835</td>\n",
       "    </tr>\n",
       "  </tbody>\n",
       "</table>\n",
       "</div>"
      ],
      "text/plain": [
       "                  Model  Accuracy  Precision    Recall  F1 Score  Cohen Kappa\n",
       "0  LogisticRegression()  0.777282   0.735915  0.522500  0.611111     0.461286\n",
       "1          GaussianNB()  0.725370   0.594077  0.568333  0.580920     0.376835"
      ]
     },
     "execution_count": 66,
     "metadata": {},
     "output_type": "execute_result"
    }
   ],
   "source": [
    "scorecard"
   ]
  },
  {
   "cell_type": "markdown",
   "id": "4df87329",
   "metadata": {},
   "source": [
    "### Decision Tree"
   ]
  },
  {
   "cell_type": "code",
   "execution_count": 67,
   "id": "3345f7f2",
   "metadata": {},
   "outputs": [
    {
     "name": "stdout",
     "output_type": "stream",
     "text": [
      "Confusion Matrix\n",
      " [[2158  225]\n",
      " [ 355  845]]\n",
      "Classification Report\n",
      "               precision    recall  f1-score   support\n",
      "\n",
      "           0       0.86      0.91      0.88      2383\n",
      "           1       0.79      0.70      0.74      1200\n",
      "\n",
      "    accuracy                           0.84      3583\n",
      "   macro avg       0.82      0.80      0.81      3583\n",
      "weighted avg       0.84      0.84      0.84      3583\n",
      "\n"
     ]
    },
    {
     "data": {
      "image/png": "[encoded data removed]",
      "text/plain": [
       "<Figure size 432x288 with 1 Axes>"
      ]
     },
     "metadata": {
      "needs_background": "light"
     },
     "output_type": "display_data"
    },
    {
     "name": "stdout",
     "output_type": "stream",
     "text": [
      "Do you want to save a model Y/N?y\n"
     ]
    }
   ],
   "source": [
    "model_validation(DecisionTreeClassifier(max_depth=5),\n",
    "                x_train,y_train,x_test,y_test)"
   ]
  },
  {
   "cell_type": "code",
   "execution_count": 68,
   "id": "8c02e377",
   "metadata": {},
   "outputs": [
    {
     "data": {
      "text/html": [
       "<div>\n",
       "<style scoped>\n",
       "    .dataframe tbody tr th:only-of-type {\n",
       "        vertical-align: middle;\n",
       "    }\n",
       "\n",
       "    .dataframe tbody tr th {\n",
       "        vertical-align: top;\n",
       "    }\n",
       "\n",
       "    .dataframe thead th {\n",
       "        text-align: right;\n",
       "    }\n",
       "</style>\n",
       "<table border=\"1\" class=\"dataframe\">\n",
       "  <thead>\n",
       "    <tr style=\"text-align: right;\">\n",
       "      <th></th>\n",
       "      <th>Model</th>\n",
       "      <th>Accuracy</th>\n",
       "      <th>Precision</th>\n",
       "      <th>Recall</th>\n",
       "      <th>F1 Score</th>\n",
       "      <th>Cohen Kappa</th>\n",
       "    </tr>\n",
       "  </thead>\n",
       "  <tbody>\n",
       "    <tr>\n",
       "      <th>0</th>\n",
       "      <td>LogisticRegression()</td>\n",
       "      <td>0.777282</td>\n",
       "      <td>0.735915</td>\n",
       "      <td>0.522500</td>\n",
       "      <td>0.611111</td>\n",
       "      <td>0.461286</td>\n",
       "    </tr>\n",
       "    <tr>\n",
       "      <th>1</th>\n",
       "      <td>GaussianNB()</td>\n",
       "      <td>0.725370</td>\n",
       "      <td>0.594077</td>\n",
       "      <td>0.568333</td>\n",
       "      <td>0.580920</td>\n",
       "      <td>0.376835</td>\n",
       "    </tr>\n",
       "    <tr>\n",
       "      <th>2</th>\n",
       "      <td>DecisionTreeClassifier(max_depth=5)</td>\n",
       "      <td>0.838124</td>\n",
       "      <td>0.789720</td>\n",
       "      <td>0.704167</td>\n",
       "      <td>0.744493</td>\n",
       "      <td>0.626597</td>\n",
       "    </tr>\n",
       "  </tbody>\n",
       "</table>\n",
       "</div>"
      ],
      "text/plain": [
       "                                 Model  Accuracy  Precision    Recall  \\\n",
       "0                 LogisticRegression()  0.777282   0.735915  0.522500   \n",
       "1                         GaussianNB()  0.725370   0.594077  0.568333   \n",
       "2  DecisionTreeClassifier(max_depth=5)  0.838124   0.789720  0.704167   \n",
       "\n",
       "   F1 Score  Cohen Kappa  \n",
       "0  0.611111     0.461286  \n",
       "1  0.580920     0.376835  \n",
       "2  0.744493     0.626597  "
      ]
     },
     "execution_count": 68,
     "metadata": {},
     "output_type": "execute_result"
    }
   ],
   "source": [
    "scorecard"
   ]
  },
  {
   "cell_type": "markdown",
   "id": "2d3fa67a",
   "metadata": {},
   "source": [
    "### Bagging Classifier/ Random Forest"
   ]
  },
  {
   "cell_type": "code",
   "execution_count": 69,
   "id": "0d503bb6",
   "metadata": {},
   "outputs": [
    {
     "name": "stdout",
     "output_type": "stream",
     "text": [
      "Confusion Matrix\n",
      " [[2154  229]\n",
      " [ 343  857]]\n",
      "Classification Report\n",
      "               precision    recall  f1-score   support\n",
      "\n",
      "           0       0.86      0.90      0.88      2383\n",
      "           1       0.79      0.71      0.75      1200\n",
      "\n",
      "    accuracy                           0.84      3583\n",
      "   macro avg       0.83      0.81      0.82      3583\n",
      "weighted avg       0.84      0.84      0.84      3583\n",
      "\n"
     ]
    },
    {
     "data": {
      "image/png": "[encoded data removed]",
      "text/plain": [
       "<Figure size 432x288 with 1 Axes>"
      ]
     },
     "metadata": {
      "needs_background": "light"
     },
     "output_type": "display_data"
    },
    {
     "name": "stdout",
     "output_type": "stream",
     "text": [
      "Do you want to save a model Y/N?y\n"
     ]
    }
   ],
   "source": [
    "model_validation(RandomForestClassifier(n_estimators=150,max_features=11,max_depth=5),\n",
    "                x_train,y_train,x_test,y_test)"
   ]
  },
  {
   "cell_type": "code",
   "execution_count": 70,
   "id": "aaa727eb",
   "metadata": {},
   "outputs": [
    {
     "data": {
      "text/html": [
       "<div>\n",
       "<style scoped>\n",
       "    .dataframe tbody tr th:only-of-type {\n",
       "        vertical-align: middle;\n",
       "    }\n",
       "\n",
       "    .dataframe tbody tr th {\n",
       "        vertical-align: top;\n",
       "    }\n",
       "\n",
       "    .dataframe thead th {\n",
       "        text-align: right;\n",
       "    }\n",
       "</style>\n",
       "<table border=\"1\" class=\"dataframe\">\n",
       "  <thead>\n",
       "    <tr style=\"text-align: right;\">\n",
       "      <th></th>\n",
       "      <th>Model</th>\n",
       "      <th>Accuracy</th>\n",
       "      <th>Precision</th>\n",
       "      <th>Recall</th>\n",
       "      <th>F1 Score</th>\n",
       "      <th>Cohen Kappa</th>\n",
       "    </tr>\n",
       "  </thead>\n",
       "  <tbody>\n",
       "    <tr>\n",
       "      <th>0</th>\n",
       "      <td>LogisticRegression()</td>\n",
       "      <td>0.777282</td>\n",
       "      <td>0.735915</td>\n",
       "      <td>0.522500</td>\n",
       "      <td>0.611111</td>\n",
       "      <td>0.461286</td>\n",
       "    </tr>\n",
       "    <tr>\n",
       "      <th>1</th>\n",
       "      <td>GaussianNB()</td>\n",
       "      <td>0.725370</td>\n",
       "      <td>0.594077</td>\n",
       "      <td>0.568333</td>\n",
       "      <td>0.580920</td>\n",
       "      <td>0.376835</td>\n",
       "    </tr>\n",
       "    <tr>\n",
       "      <th>2</th>\n",
       "      <td>DecisionTreeClassifier(max_depth=5)</td>\n",
       "      <td>0.838124</td>\n",
       "      <td>0.789720</td>\n",
       "      <td>0.704167</td>\n",
       "      <td>0.744493</td>\n",
       "      <td>0.626597</td>\n",
       "    </tr>\n",
       "    <tr>\n",
       "      <th>3</th>\n",
       "      <td>RandomForestClassifier(max_depth=5, max_featur...</td>\n",
       "      <td>0.840357</td>\n",
       "      <td>0.789134</td>\n",
       "      <td>0.714167</td>\n",
       "      <td>0.749781</td>\n",
       "      <td>0.632996</td>\n",
       "    </tr>\n",
       "  </tbody>\n",
       "</table>\n",
       "</div>"
      ],
      "text/plain": [
       "                                               Model  Accuracy  Precision  \\\n",
       "0                               LogisticRegression()  0.777282   0.735915   \n",
       "1                                       GaussianNB()  0.725370   0.594077   \n",
       "2                DecisionTreeClassifier(max_depth=5)  0.838124   0.789720   \n",
       "3  RandomForestClassifier(max_depth=5, max_featur...  0.840357   0.789134   \n",
       "\n",
       "     Recall  F1 Score  Cohen Kappa  \n",
       "0  0.522500  0.611111     0.461286  \n",
       "1  0.568333  0.580920     0.376835  \n",
       "2  0.704167  0.744493     0.626597  \n",
       "3  0.714167  0.749781     0.632996  "
      ]
     },
     "execution_count": 70,
     "metadata": {},
     "output_type": "execute_result"
    }
   ],
   "source": [
    "scorecard"
   ]
  },
  {
   "cell_type": "markdown",
   "id": "d18972a3",
   "metadata": {},
   "source": [
    "### Adaboost"
   ]
  },
  {
   "cell_type": "code",
   "execution_count": 71,
   "id": "74e65d65",
   "metadata": {},
   "outputs": [
    {
     "name": "stdout",
     "output_type": "stream",
     "text": [
      "Confusion Matrix\n",
      " [[2118  265]\n",
      " [ 466  734]]\n",
      "Classification Report\n",
      "               precision    recall  f1-score   support\n",
      "\n",
      "           0       0.82      0.89      0.85      2383\n",
      "           1       0.73      0.61      0.67      1200\n",
      "\n",
      "    accuracy                           0.80      3583\n",
      "   macro avg       0.78      0.75      0.76      3583\n",
      "weighted avg       0.79      0.80      0.79      3583\n",
      "\n"
     ]
    },
    {
     "data": {
      "image/png": "[encoded data removed]",
      "text/plain": [
       "<Figure size 432x288 with 1 Axes>"
      ]
     },
     "metadata": {
      "needs_background": "light"
     },
     "output_type": "display_data"
    },
    {
     "name": "stdout",
     "output_type": "stream",
     "text": [
      "Do you want to save a model Y/N?y\n"
     ]
    }
   ],
   "source": [
    "model_validation(AdaBoostClassifier(n_estimators=150,learning_rate=0.1),\n",
    "                x_train,y_train,x_test,y_test)"
   ]
  },
  {
   "cell_type": "code",
   "execution_count": 72,
   "id": "f6477d07",
   "metadata": {},
   "outputs": [
    {
     "data": {
      "text/html": [
       "<div>\n",
       "<style scoped>\n",
       "    .dataframe tbody tr th:only-of-type {\n",
       "        vertical-align: middle;\n",
       "    }\n",
       "\n",
       "    .dataframe tbody tr th {\n",
       "        vertical-align: top;\n",
       "    }\n",
       "\n",
       "    .dataframe thead th {\n",
       "        text-align: right;\n",
       "    }\n",
       "</style>\n",
       "<table border=\"1\" class=\"dataframe\">\n",
       "  <thead>\n",
       "    <tr style=\"text-align: right;\">\n",
       "      <th></th>\n",
       "      <th>Model</th>\n",
       "      <th>Accuracy</th>\n",
       "      <th>Precision</th>\n",
       "      <th>Recall</th>\n",
       "      <th>F1 Score</th>\n",
       "      <th>Cohen Kappa</th>\n",
       "    </tr>\n",
       "  </thead>\n",
       "  <tbody>\n",
       "    <tr>\n",
       "      <th>0</th>\n",
       "      <td>LogisticRegression()</td>\n",
       "      <td>0.777282</td>\n",
       "      <td>0.735915</td>\n",
       "      <td>0.522500</td>\n",
       "      <td>0.611111</td>\n",
       "      <td>0.461286</td>\n",
       "    </tr>\n",
       "    <tr>\n",
       "      <th>1</th>\n",
       "      <td>GaussianNB()</td>\n",
       "      <td>0.725370</td>\n",
       "      <td>0.594077</td>\n",
       "      <td>0.568333</td>\n",
       "      <td>0.580920</td>\n",
       "      <td>0.376835</td>\n",
       "    </tr>\n",
       "    <tr>\n",
       "      <th>2</th>\n",
       "      <td>DecisionTreeClassifier(max_depth=5)</td>\n",
       "      <td>0.838124</td>\n",
       "      <td>0.789720</td>\n",
       "      <td>0.704167</td>\n",
       "      <td>0.744493</td>\n",
       "      <td>0.626597</td>\n",
       "    </tr>\n",
       "    <tr>\n",
       "      <th>3</th>\n",
       "      <td>RandomForestClassifier(max_depth=5, max_featur...</td>\n",
       "      <td>0.840357</td>\n",
       "      <td>0.789134</td>\n",
       "      <td>0.714167</td>\n",
       "      <td>0.749781</td>\n",
       "      <td>0.632996</td>\n",
       "    </tr>\n",
       "    <tr>\n",
       "      <th>4</th>\n",
       "      <td>AdaBoostClassifier(learning_rate=0.1, n_estima...</td>\n",
       "      <td>0.795981</td>\n",
       "      <td>0.734735</td>\n",
       "      <td>0.611667</td>\n",
       "      <td>0.667576</td>\n",
       "      <td>0.522172</td>\n",
       "    </tr>\n",
       "  </tbody>\n",
       "</table>\n",
       "</div>"
      ],
      "text/plain": [
       "                                               Model  Accuracy  Precision  \\\n",
       "0                               LogisticRegression()  0.777282   0.735915   \n",
       "1                                       GaussianNB()  0.725370   0.594077   \n",
       "2                DecisionTreeClassifier(max_depth=5)  0.838124   0.789720   \n",
       "3  RandomForestClassifier(max_depth=5, max_featur...  0.840357   0.789134   \n",
       "4  AdaBoostClassifier(learning_rate=0.1, n_estima...  0.795981   0.734735   \n",
       "\n",
       "     Recall  F1 Score  Cohen Kappa  \n",
       "0  0.522500  0.611111     0.461286  \n",
       "1  0.568333  0.580920     0.376835  \n",
       "2  0.704167  0.744493     0.626597  \n",
       "3  0.714167  0.749781     0.632996  \n",
       "4  0.611667  0.667576     0.522172  "
      ]
     },
     "execution_count": 72,
     "metadata": {},
     "output_type": "execute_result"
    }
   ],
   "source": [
    "scorecard"
   ]
  },
  {
   "cell_type": "markdown",
   "id": "06d473e5",
   "metadata": {},
   "source": [
    "### Gradient Boosting"
   ]
  },
  {
   "cell_type": "code",
   "execution_count": 73,
   "id": "2e66207e",
   "metadata": {},
   "outputs": [
    {
     "name": "stdout",
     "output_type": "stream",
     "text": [
      "Confusion Matrix\n",
      " [[1930  453]\n",
      " [ 287  913]]\n",
      "Classification Report\n",
      "               precision    recall  f1-score   support\n",
      "\n",
      "           0       0.87      0.81      0.84      2383\n",
      "           1       0.67      0.76      0.71      1200\n",
      "\n",
      "    accuracy                           0.79      3583\n",
      "   macro avg       0.77      0.79      0.78      3583\n",
      "weighted avg       0.80      0.79      0.80      3583\n",
      "\n"
     ]
    },
    {
     "data": {
      "image/png": "[encoded data removed]",
      "text/plain": [
       "<Figure size 432x288 with 1 Axes>"
      ]
     },
     "metadata": {
      "needs_background": "light"
     },
     "output_type": "display_data"
    },
    {
     "name": "stdout",
     "output_type": "stream",
     "text": [
      "Do you want to save a model Y/N?y\n"
     ]
    }
   ],
   "source": [
    "model_validation(GradientBoostingClassifier(max_depth=7,n_estimators=100),\n",
    "                x_train,y_train,x_test,y_test)"
   ]
  },
  {
   "cell_type": "code",
   "execution_count": 74,
   "id": "7e956405",
   "metadata": {},
   "outputs": [
    {
     "data": {
      "text/html": [
       "<div>\n",
       "<style scoped>\n",
       "    .dataframe tbody tr th:only-of-type {\n",
       "        vertical-align: middle;\n",
       "    }\n",
       "\n",
       "    .dataframe tbody tr th {\n",
       "        vertical-align: top;\n",
       "    }\n",
       "\n",
       "    .dataframe thead th {\n",
       "        text-align: right;\n",
       "    }\n",
       "</style>\n",
       "<table border=\"1\" class=\"dataframe\">\n",
       "  <thead>\n",
       "    <tr style=\"text-align: right;\">\n",
       "      <th></th>\n",
       "      <th>Model</th>\n",
       "      <th>Accuracy</th>\n",
       "      <th>Precision</th>\n",
       "      <th>Recall</th>\n",
       "      <th>F1 Score</th>\n",
       "      <th>Cohen Kappa</th>\n",
       "    </tr>\n",
       "  </thead>\n",
       "  <tbody>\n",
       "    <tr>\n",
       "      <th>0</th>\n",
       "      <td>LogisticRegression()</td>\n",
       "      <td>0.777282</td>\n",
       "      <td>0.735915</td>\n",
       "      <td>0.522500</td>\n",
       "      <td>0.611111</td>\n",
       "      <td>0.461286</td>\n",
       "    </tr>\n",
       "    <tr>\n",
       "      <th>1</th>\n",
       "      <td>GaussianNB()</td>\n",
       "      <td>0.725370</td>\n",
       "      <td>0.594077</td>\n",
       "      <td>0.568333</td>\n",
       "      <td>0.580920</td>\n",
       "      <td>0.376835</td>\n",
       "    </tr>\n",
       "    <tr>\n",
       "      <th>2</th>\n",
       "      <td>DecisionTreeClassifier(max_depth=5)</td>\n",
       "      <td>0.838124</td>\n",
       "      <td>0.789720</td>\n",
       "      <td>0.704167</td>\n",
       "      <td>0.744493</td>\n",
       "      <td>0.626597</td>\n",
       "    </tr>\n",
       "    <tr>\n",
       "      <th>3</th>\n",
       "      <td>RandomForestClassifier(max_depth=5, max_featur...</td>\n",
       "      <td>0.840357</td>\n",
       "      <td>0.789134</td>\n",
       "      <td>0.714167</td>\n",
       "      <td>0.749781</td>\n",
       "      <td>0.632996</td>\n",
       "    </tr>\n",
       "    <tr>\n",
       "      <th>4</th>\n",
       "      <td>AdaBoostClassifier(learning_rate=0.1, n_estima...</td>\n",
       "      <td>0.795981</td>\n",
       "      <td>0.734735</td>\n",
       "      <td>0.611667</td>\n",
       "      <td>0.667576</td>\n",
       "      <td>0.522172</td>\n",
       "    </tr>\n",
       "    <tr>\n",
       "      <th>5</th>\n",
       "      <td>GradientBoostingClassifier(max_depth=7)</td>\n",
       "      <td>0.793469</td>\n",
       "      <td>0.668375</td>\n",
       "      <td>0.760833</td>\n",
       "      <td>0.711613</td>\n",
       "      <td>0.551790</td>\n",
       "    </tr>\n",
       "  </tbody>\n",
       "</table>\n",
       "</div>"
      ],
      "text/plain": [
       "                                               Model  Accuracy  Precision  \\\n",
       "0                               LogisticRegression()  0.777282   0.735915   \n",
       "1                                       GaussianNB()  0.725370   0.594077   \n",
       "2                DecisionTreeClassifier(max_depth=5)  0.838124   0.789720   \n",
       "3  RandomForestClassifier(max_depth=5, max_featur...  0.840357   0.789134   \n",
       "4  AdaBoostClassifier(learning_rate=0.1, n_estima...  0.795981   0.734735   \n",
       "5            GradientBoostingClassifier(max_depth=7)  0.793469   0.668375   \n",
       "\n",
       "     Recall  F1 Score  Cohen Kappa  \n",
       "0  0.522500  0.611111     0.461286  \n",
       "1  0.568333  0.580920     0.376835  \n",
       "2  0.704167  0.744493     0.626597  \n",
       "3  0.714167  0.749781     0.632996  \n",
       "4  0.611667  0.667576     0.522172  \n",
       "5  0.760833  0.711613     0.551790  "
      ]
     },
     "execution_count": 74,
     "metadata": {},
     "output_type": "execute_result"
    }
   ],
   "source": [
    "scorecard"
   ]
  },
  {
   "cell_type": "markdown",
   "id": "d691cfb2",
   "metadata": {},
   "source": [
    "### XGBoost"
   ]
  },
  {
   "cell_type": "code",
   "execution_count": 75,
   "id": "9d93af89",
   "metadata": {},
   "outputs": [
    {
     "name": "stdout",
     "output_type": "stream",
     "text": [
      "Confusion Matrix\n",
      " [[2031  352]\n",
      " [ 319  881]]\n",
      "Classification Report\n",
      "               precision    recall  f1-score   support\n",
      "\n",
      "           0       0.86      0.85      0.86      2383\n",
      "           1       0.71      0.73      0.72      1200\n",
      "\n",
      "    accuracy                           0.81      3583\n",
      "   macro avg       0.79      0.79      0.79      3583\n",
      "weighted avg       0.81      0.81      0.81      3583\n",
      "\n"
     ]
    },
    {
     "data": {
      "image/png": "[encoded data removed]",
      "text/plain": [
       "<Figure size 432x288 with 1 Axes>"
      ]
     },
     "metadata": {
      "needs_background": "light"
     },
     "output_type": "display_data"
    },
    {
     "name": "stdout",
     "output_type": "stream",
     "text": [
      "Do you want to save a model Y/N?y\n"
     ]
    }
   ],
   "source": [
    "model_validation(XGBClassifier(n_estimators=250,learning_rate=0.01,max_depth=7),\n",
    "                 x_train,y_train,x_test,y_test)"
   ]
  },
  {
   "cell_type": "code",
   "execution_count": 76,
   "id": "c691fe32",
   "metadata": {},
   "outputs": [
    {
     "data": {
      "text/html": [
       "<div>\n",
       "<style scoped>\n",
       "    .dataframe tbody tr th:only-of-type {\n",
       "        vertical-align: middle;\n",
       "    }\n",
       "\n",
       "    .dataframe tbody tr th {\n",
       "        vertical-align: top;\n",
       "    }\n",
       "\n",
       "    .dataframe thead th {\n",
       "        text-align: right;\n",
       "    }\n",
       "</style>\n",
       "<table border=\"1\" class=\"dataframe\">\n",
       "  <thead>\n",
       "    <tr style=\"text-align: right;\">\n",
       "      <th></th>\n",
       "      <th>Model</th>\n",
       "      <th>Accuracy</th>\n",
       "      <th>Precision</th>\n",
       "      <th>Recall</th>\n",
       "      <th>F1 Score</th>\n",
       "      <th>Cohen Kappa</th>\n",
       "    </tr>\n",
       "  </thead>\n",
       "  <tbody>\n",
       "    <tr>\n",
       "      <th>0</th>\n",
       "      <td>LogisticRegression()</td>\n",
       "      <td>0.777282</td>\n",
       "      <td>0.735915</td>\n",
       "      <td>0.522500</td>\n",
       "      <td>0.611111</td>\n",
       "      <td>0.461286</td>\n",
       "    </tr>\n",
       "    <tr>\n",
       "      <th>1</th>\n",
       "      <td>GaussianNB()</td>\n",
       "      <td>0.725370</td>\n",
       "      <td>0.594077</td>\n",
       "      <td>0.568333</td>\n",
       "      <td>0.580920</td>\n",
       "      <td>0.376835</td>\n",
       "    </tr>\n",
       "    <tr>\n",
       "      <th>2</th>\n",
       "      <td>DecisionTreeClassifier(max_depth=5)</td>\n",
       "      <td>0.838124</td>\n",
       "      <td>0.789720</td>\n",
       "      <td>0.704167</td>\n",
       "      <td>0.744493</td>\n",
       "      <td>0.626597</td>\n",
       "    </tr>\n",
       "    <tr>\n",
       "      <th>3</th>\n",
       "      <td>RandomForestClassifier(max_depth=5, max_featur...</td>\n",
       "      <td>0.840357</td>\n",
       "      <td>0.789134</td>\n",
       "      <td>0.714167</td>\n",
       "      <td>0.749781</td>\n",
       "      <td>0.632996</td>\n",
       "    </tr>\n",
       "    <tr>\n",
       "      <th>4</th>\n",
       "      <td>AdaBoostClassifier(learning_rate=0.1, n_estima...</td>\n",
       "      <td>0.795981</td>\n",
       "      <td>0.734735</td>\n",
       "      <td>0.611667</td>\n",
       "      <td>0.667576</td>\n",
       "      <td>0.522172</td>\n",
       "    </tr>\n",
       "    <tr>\n",
       "      <th>5</th>\n",
       "      <td>GradientBoostingClassifier(max_depth=7)</td>\n",
       "      <td>0.793469</td>\n",
       "      <td>0.668375</td>\n",
       "      <td>0.760833</td>\n",
       "      <td>0.711613</td>\n",
       "      <td>0.551790</td>\n",
       "    </tr>\n",
       "    <tr>\n",
       "      <th>6</th>\n",
       "      <td>XGBClassifier(base_score=0.5, booster='gbtree'...</td>\n",
       "      <td>0.812727</td>\n",
       "      <td>0.714517</td>\n",
       "      <td>0.734167</td>\n",
       "      <td>0.724209</td>\n",
       "      <td>0.582478</td>\n",
       "    </tr>\n",
       "  </tbody>\n",
       "</table>\n",
       "</div>"
      ],
      "text/plain": [
       "                                               Model  Accuracy  Precision  \\\n",
       "0                               LogisticRegression()  0.777282   0.735915   \n",
       "1                                       GaussianNB()  0.725370   0.594077   \n",
       "2                DecisionTreeClassifier(max_depth=5)  0.838124   0.789720   \n",
       "3  RandomForestClassifier(max_depth=5, max_featur...  0.840357   0.789134   \n",
       "4  AdaBoostClassifier(learning_rate=0.1, n_estima...  0.795981   0.734735   \n",
       "5            GradientBoostingClassifier(max_depth=7)  0.793469   0.668375   \n",
       "6  XGBClassifier(base_score=0.5, booster='gbtree'...  0.812727   0.714517   \n",
       "\n",
       "     Recall  F1 Score  Cohen Kappa  \n",
       "0  0.522500  0.611111     0.461286  \n",
       "1  0.568333  0.580920     0.376835  \n",
       "2  0.704167  0.744493     0.626597  \n",
       "3  0.714167  0.749781     0.632996  \n",
       "4  0.611667  0.667576     0.522172  \n",
       "5  0.760833  0.711613     0.551790  \n",
       "6  0.734167  0.724209     0.582478  "
      ]
     },
     "execution_count": 76,
     "metadata": {},
     "output_type": "execute_result"
    }
   ],
   "source": [
    "scorecard"
   ]
  },
  {
   "cell_type": "markdown",
   "id": "bd050d4f",
   "metadata": {},
   "source": [
    "### Voting"
   ]
  },
  {
   "cell_type": "code",
   "execution_count": 84,
   "id": "35e0d6af",
   "metadata": {},
   "outputs": [],
   "source": [
    "base_estimators = [('Decision Tree 1',DecisionTreeClassifier(max_depth=7)),\n",
    "                   ('Decision Tree 2',DecisionTreeClassifier(max_depth=5)),\n",
    "                  ('Random Forest 1',RandomForestClassifier(n_estimators=150,max_depth=5)),\n",
    "                   ('Random Forest 2',RandomForestClassifier(n_estimators=200,max_depth=7)),\n",
    "                  ('XGBoost',XGBClassifier(n_estimators=200,max_depth=5))]"
   ]
  },
  {
   "cell_type": "code",
   "execution_count": 85,
   "id": "f8e764a5",
   "metadata": {},
   "outputs": [],
   "source": [
    "vc = VotingClassifier(estimators=base_estimators,voting='soft')"
   ]
  },
  {
   "cell_type": "code",
   "execution_count": 86,
   "id": "0b4b343e",
   "metadata": {},
   "outputs": [
    {
     "data": {
      "text/html": [
       "<style>#sk-container-id-2 {color: black;}#sk-container-id-2 pre{padding: 0;}#sk-container-id-2 div.sk-toggleable {background-color: white;}#sk-container-id-2 label.sk-toggleable__label {cursor: pointer;display: block;width: 100%;margin-bottom: 0;padding: 0.3em;box-sizing: border-box;text-align: center;}#sk-container-id-2 label.sk-toggleable__label-arrow:before {content: \"▸\";float: left;margin-right: 0.25em;color: #696969;}#sk-container-id-2 label.sk-toggleable__label-arrow:hover:before {color: black;}#sk-container-id-2 div.sk-estimator:hover label.sk-toggleable__label-arrow:before {color: black;}#sk-container-id-2 div.sk-toggleable__content {max-height: 0;max-width: 0;overflow: hidden;text-align: left;background-color: #f0f8ff;}#sk-container-id-2 div.sk-toggleable__content pre {margin: 0.2em;color: black;border-radius: 0.25em;background-color: #f0f8ff;}#sk-container-id-2 input.sk-toggleable__control:checked~div.sk-toggleable__content {max-height: 200px;max-width: 100%;overflow: auto;}#sk-container-id-2 input.sk-toggleable__control:checked~label.sk-toggleable__label-arrow:before {content: \"▾\";}#sk-container-id-2 div.sk-estimator input.sk-toggleable__control:checked~label.sk-toggleable__label {background-color: #d4ebff;}#sk-container-id-2 div.sk-label input.sk-toggleable__control:checked~label.sk-toggleable__label {background-color: #d4ebff;}#sk-container-id-2 input.sk-hidden--visually {border: 0;clip: rect(1px 1px 1px 1px);clip: rect(1px, 1px, 1px, 1px);height: 1px;margin: -1px;overflow: hidden;padding: 0;position: absolute;width: 1px;}#sk-container-id-2 div.sk-estimator {font-family: monospace;background-color: #f0f8ff;border: 1px dotted black;border-radius: 0.25em;box-sizing: border-box;margin-bottom: 0.5em;}#sk-container-id-2 div.sk-estimator:hover {background-color: #d4ebff;}#sk-container-id-2 div.sk-parallel-item::after {content: \"\";width: 100%;border-bottom: 1px solid gray;flex-grow: 1;}#sk-container-id-2 div.sk-label:hover label.sk-toggleable__label {background-color: #d4ebff;}#sk-container-id-2 div.sk-serial::before {content: \"\";position: absolute;border-left: 1px solid gray;box-sizing: border-box;top: 0;bottom: 0;left: 50%;z-index: 0;}#sk-container-id-2 div.sk-serial {display: flex;flex-direction: column;align-items: center;background-color: white;padding-right: 0.2em;padding-left: 0.2em;position: relative;}#sk-container-id-2 div.sk-item {position: relative;z-index: 1;}#sk-container-id-2 div.sk-parallel {display: flex;align-items: stretch;justify-content: center;background-color: white;position: relative;}#sk-container-id-2 div.sk-item::before, #sk-container-id-2 div.sk-parallel-item::before {content: \"\";position: absolute;border-left: 1px solid gray;box-sizing: border-box;top: 0;bottom: 0;left: 50%;z-index: -1;}#sk-container-id-2 div.sk-parallel-item {display: flex;flex-direction: column;z-index: 1;position: relative;background-color: white;}#sk-container-id-2 div.sk-parallel-item:first-child::after {align-self: flex-end;width: 50%;}#sk-container-id-2 div.sk-parallel-item:last-child::after {align-self: flex-start;width: 50%;}#sk-container-id-2 div.sk-parallel-item:only-child::after {width: 0;}#sk-container-id-2 div.sk-dashed-wrapped {border: 1px dashed gray;margin: 0 0.4em 0.5em 0.4em;box-sizing: border-box;padding-bottom: 0.4em;background-color: white;}#sk-container-id-2 div.sk-label label {font-family: monospace;font-weight: bold;display: inline-block;line-height: 1.2em;}#sk-container-id-2 div.sk-label-container {text-align: center;}#sk-container-id-2 div.sk-container {/* jupyter's `normalize.less` sets `[hidden] { display: none; }` but bootstrap.min.css set `[hidden] { display: none !important; }` so we also need the `!important` here to be able to override the default hidden behavior on the sphinx rendered scikit-learn.org. See: https://github.com/scikit-learn/scikit-learn/issues/21755 */display: inline-block !important;position: relative;}#sk-container-id-2 div.sk-text-repr-fallback {display: none;}</style><div id=\"sk-container-id-2\" class=\"sk-top-container\"><div class=\"sk-text-repr-fallback\"><pre>VotingClassifier(estimators=[(&#x27;Decision Tree 1&#x27;,\n",
       "                              DecisionTreeClassifier(max_depth=7)),\n",
       "                             (&#x27;Decision Tree 2&#x27;,\n",
       "                              DecisionTreeClassifier(max_depth=5)),\n",
       "                             (&#x27;Random Forest 1&#x27;,\n",
       "                              RandomForestClassifier(max_depth=5,\n",
       "                                                     n_estimators=150)),\n",
       "                             (&#x27;Random Forest 2&#x27;,\n",
       "                              RandomForestClassifier(max_depth=7,\n",
       "                                                     n_estimators=200)),\n",
       "                             (&#x27;XGBoost&#x27;,\n",
       "                              XGBClassifier(base_score=None, booster=None,\n",
       "                                            callbacks=None,\n",
       "                                            co...\n",
       "                                            importance_type=None,\n",
       "                                            interaction_constraints=None,\n",
       "                                            learning_rate=None, max_bin=None,\n",
       "                                            max_cat_to_onehot=None,\n",
       "                                            max_delta_step=None, max_depth=5,\n",
       "                                            max_leaves=None,\n",
       "                                            min_child_weight=None, missing=nan,\n",
       "                                            monotone_constraints=None,\n",
       "                                            n_estimators=200, n_jobs=None,\n",
       "                                            num_parallel_tree=None,\n",
       "                                            predictor=None, random_state=None,\n",
       "                                            reg_alpha=None, reg_lambda=None, ...))],\n",
       "                 voting=&#x27;soft&#x27;)</pre><b>In a Jupyter environment, please rerun this cell to show the HTML representation or trust the notebook. <br />On GitHub, the HTML representation is unable to render, please try loading this page with nbviewer.org.</b></div><div class=\"sk-container\" hidden><div class=\"sk-item sk-dashed-wrapped\"><div class=\"sk-label-container\"><div class=\"sk-label sk-toggleable\"><input class=\"sk-toggleable__control sk-hidden--visually\" id=\"sk-estimator-id-5\" type=\"checkbox\" ><label for=\"sk-estimator-id-5\" class=\"sk-toggleable__label sk-toggleable__label-arrow\">VotingClassifier</label><div class=\"sk-toggleable__content\"><pre>VotingClassifier(estimators=[(&#x27;Decision Tree 1&#x27;,\n",
       "                              DecisionTreeClassifier(max_depth=7)),\n",
       "                             (&#x27;Decision Tree 2&#x27;,\n",
       "                              DecisionTreeClassifier(max_depth=5)),\n",
       "                             (&#x27;Random Forest 1&#x27;,\n",
       "                              RandomForestClassifier(max_depth=5,\n",
       "                                                     n_estimators=150)),\n",
       "                             (&#x27;Random Forest 2&#x27;,\n",
       "                              RandomForestClassifier(max_depth=7,\n",
       "                                                     n_estimators=200)),\n",
       "                             (&#x27;XGBoost&#x27;,\n",
       "                              XGBClassifier(base_score=None, booster=None,\n",
       "                                            callbacks=None,\n",
       "                                            co...\n",
       "                                            importance_type=None,\n",
       "                                            interaction_constraints=None,\n",
       "                                            learning_rate=None, max_bin=None,\n",
       "                                            max_cat_to_onehot=None,\n",
       "                                            max_delta_step=None, max_depth=5,\n",
       "                                            max_leaves=None,\n",
       "                                            min_child_weight=None, missing=nan,\n",
       "                                            monotone_constraints=None,\n",
       "                                            n_estimators=200, n_jobs=None,\n",
       "                                            num_parallel_tree=None,\n",
       "                                            predictor=None, random_state=None,\n",
       "                                            reg_alpha=None, reg_lambda=None, ...))],\n",
       "                 voting=&#x27;soft&#x27;)</pre></div></div></div><div class=\"sk-parallel\"><div class=\"sk-parallel-item\"><div class=\"sk-item\"><div class=\"sk-label-container\"><div class=\"sk-label sk-toggleable\"><label>Decision Tree 1</label></div></div><div class=\"sk-serial\"><div class=\"sk-item\"><div class=\"sk-estimator sk-toggleable\"><input class=\"sk-toggleable__control sk-hidden--visually\" id=\"sk-estimator-id-6\" type=\"checkbox\" ><label for=\"sk-estimator-id-6\" class=\"sk-toggleable__label sk-toggleable__label-arrow\">DecisionTreeClassifier</label><div class=\"sk-toggleable__content\"><pre>DecisionTreeClassifier(max_depth=7)</pre></div></div></div></div></div></div><div class=\"sk-parallel-item\"><div class=\"sk-item\"><div class=\"sk-label-container\"><div class=\"sk-label sk-toggleable\"><label>Decision Tree 2</label></div></div><div class=\"sk-serial\"><div class=\"sk-item\"><div class=\"sk-estimator sk-toggleable\"><input class=\"sk-toggleable__control sk-hidden--visually\" id=\"sk-estimator-id-7\" type=\"checkbox\" ><label for=\"sk-estimator-id-7\" class=\"sk-toggleable__label sk-toggleable__label-arrow\">DecisionTreeClassifier</label><div class=\"sk-toggleable__content\"><pre>DecisionTreeClassifier(max_depth=5)</pre></div></div></div></div></div></div><div class=\"sk-parallel-item\"><div class=\"sk-item\"><div class=\"sk-label-container\"><div class=\"sk-label sk-toggleable\"><label>Random Forest 1</label></div></div><div class=\"sk-serial\"><div class=\"sk-item\"><div class=\"sk-estimator sk-toggleable\"><input class=\"sk-toggleable__control sk-hidden--visually\" id=\"sk-estimator-id-8\" type=\"checkbox\" ><label for=\"sk-estimator-id-8\" class=\"sk-toggleable__label sk-toggleable__label-arrow\">RandomForestClassifier</label><div class=\"sk-toggleable__content\"><pre>RandomForestClassifier(max_depth=5, n_estimators=150)</pre></div></div></div></div></div></div><div class=\"sk-parallel-item\"><div class=\"sk-item\"><div class=\"sk-label-container\"><div class=\"sk-label sk-toggleable\"><label>Random Forest 2</label></div></div><div class=\"sk-serial\"><div class=\"sk-item\"><div class=\"sk-estimator sk-toggleable\"><input class=\"sk-toggleable__control sk-hidden--visually\" id=\"sk-estimator-id-9\" type=\"checkbox\" ><label for=\"sk-estimator-id-9\" class=\"sk-toggleable__label sk-toggleable__label-arrow\">RandomForestClassifier</label><div class=\"sk-toggleable__content\"><pre>RandomForestClassifier(max_depth=7, n_estimators=200)</pre></div></div></div></div></div></div><div class=\"sk-parallel-item\"><div class=\"sk-item\"><div class=\"sk-label-container\"><div class=\"sk-label sk-toggleable\"><label>XGBoost</label></div></div><div class=\"sk-serial\"><div class=\"sk-item\"><div class=\"sk-estimator sk-toggleable\"><input class=\"sk-toggleable__control sk-hidden--visually\" id=\"sk-estimator-id-10\" type=\"checkbox\" ><label for=\"sk-estimator-id-10\" class=\"sk-toggleable__label sk-toggleable__label-arrow\">XGBClassifier</label><div class=\"sk-toggleable__content\"><pre>XGBClassifier(base_score=None, booster=None, callbacks=None,\n",
       "              colsample_bylevel=None, colsample_bynode=None,\n",
       "              colsample_bytree=None, early_stopping_rounds=None,\n",
       "              enable_categorical=False, eval_metric=None, gamma=None,\n",
       "              gpu_id=None, grow_policy=None, importance_type=None,\n",
       "              interaction_constraints=None, learning_rate=None, max_bin=None,\n",
       "              max_cat_to_onehot=None, max_delta_step=None, max_depth=5,\n",
       "              max_leaves=None, min_child_weight=None, missing=nan,\n",
       "              monotone_constraints=None, n_estimators=200, n_jobs=None,\n",
       "              num_parallel_tree=None, predictor=None, random_state=None,\n",
       "              reg_alpha=None, reg_lambda=None, ...)</pre></div></div></div></div></div></div></div></div></div></div>"
      ],
      "text/plain": [
       "VotingClassifier(estimators=[('Decision Tree 1',\n",
       "                              DecisionTreeClassifier(max_depth=7)),\n",
       "                             ('Decision Tree 2',\n",
       "                              DecisionTreeClassifier(max_depth=5)),\n",
       "                             ('Random Forest 1',\n",
       "                              RandomForestClassifier(max_depth=5,\n",
       "                                                     n_estimators=150)),\n",
       "                             ('Random Forest 2',\n",
       "                              RandomForestClassifier(max_depth=7,\n",
       "                                                     n_estimators=200)),\n",
       "                             ('XGBoost',\n",
       "                              XGBClassifier(base_score=None, booster=None,\n",
       "                                            callbacks=None,\n",
       "                                            co...\n",
       "                                            importance_type=None,\n",
       "                                            interaction_constraints=None,\n",
       "                                            learning_rate=None, max_bin=None,\n",
       "                                            max_cat_to_onehot=None,\n",
       "                                            max_delta_step=None, max_depth=5,\n",
       "                                            max_leaves=None,\n",
       "                                            min_child_weight=None, missing=nan,\n",
       "                                            monotone_constraints=None,\n",
       "                                            n_estimators=200, n_jobs=None,\n",
       "                                            num_parallel_tree=None,\n",
       "                                            predictor=None, random_state=None,\n",
       "                                            reg_alpha=None, reg_lambda=None, ...))],\n",
       "                 voting='soft')"
      ]
     },
     "execution_count": 86,
     "metadata": {},
     "output_type": "execute_result"
    }
   ],
   "source": [
    "vc.fit(x_train,y_train)"
   ]
  },
  {
   "cell_type": "code",
   "execution_count": 90,
   "id": "143107d9",
   "metadata": {},
   "outputs": [
    {
     "name": "stdout",
     "output_type": "stream",
     "text": [
      "Confusion Matrix\n",
      " [[2174  209]\n",
      " [ 349  851]]\n",
      "Classification Report\n",
      "               precision    recall  f1-score   support\n",
      "\n",
      "           0       0.86      0.91      0.89      2383\n",
      "           1       0.80      0.71      0.75      1200\n",
      "\n",
      "    accuracy                           0.84      3583\n",
      "   macro avg       0.83      0.81      0.82      3583\n",
      "weighted avg       0.84      0.84      0.84      3583\n",
      "\n"
     ]
    },
    {
     "data": {
      "image/png": "[encoded data removed]",
      "text/plain": [
       "<Figure size 432x288 with 1 Axes>"
      ]
     },
     "metadata": {
      "needs_background": "light"
     },
     "output_type": "display_data"
    },
    {
     "name": "stdout",
     "output_type": "stream",
     "text": [
      "Do you want to save a model Y/N?n\n"
     ]
    }
   ],
   "source": [
    "model_validation(VotingClassifier(estimators=base_estimators,voting='soft'),\n",
    "                x_train,y_train,x_test,y_test)"
   ]
  },
  {
   "cell_type": "code",
   "execution_count": 88,
   "id": "86a86fb3",
   "metadata": {},
   "outputs": [
    {
     "data": {
      "text/html": [
       "<div>\n",
       "<style scoped>\n",
       "    .dataframe tbody tr th:only-of-type {\n",
       "        vertical-align: middle;\n",
       "    }\n",
       "\n",
       "    .dataframe tbody tr th {\n",
       "        vertical-align: top;\n",
       "    }\n",
       "\n",
       "    .dataframe thead th {\n",
       "        text-align: right;\n",
       "    }\n",
       "</style>\n",
       "<table border=\"1\" class=\"dataframe\">\n",
       "  <thead>\n",
       "    <tr style=\"text-align: right;\">\n",
       "      <th></th>\n",
       "      <th>Model</th>\n",
       "      <th>Accuracy</th>\n",
       "      <th>Precision</th>\n",
       "      <th>Recall</th>\n",
       "      <th>F1 Score</th>\n",
       "      <th>Cohen Kappa</th>\n",
       "    </tr>\n",
       "  </thead>\n",
       "  <tbody>\n",
       "    <tr>\n",
       "      <th>0</th>\n",
       "      <td>LogisticRegression()</td>\n",
       "      <td>0.777282</td>\n",
       "      <td>0.735915</td>\n",
       "      <td>0.522500</td>\n",
       "      <td>0.611111</td>\n",
       "      <td>0.461286</td>\n",
       "    </tr>\n",
       "    <tr>\n",
       "      <th>1</th>\n",
       "      <td>GaussianNB()</td>\n",
       "      <td>0.725370</td>\n",
       "      <td>0.594077</td>\n",
       "      <td>0.568333</td>\n",
       "      <td>0.580920</td>\n",
       "      <td>0.376835</td>\n",
       "    </tr>\n",
       "    <tr>\n",
       "      <th>2</th>\n",
       "      <td>DecisionTreeClassifier(max_depth=5)</td>\n",
       "      <td>0.838124</td>\n",
       "      <td>0.789720</td>\n",
       "      <td>0.704167</td>\n",
       "      <td>0.744493</td>\n",
       "      <td>0.626597</td>\n",
       "    </tr>\n",
       "    <tr>\n",
       "      <th>3</th>\n",
       "      <td>RandomForestClassifier(max_depth=5, max_featur...</td>\n",
       "      <td>0.840357</td>\n",
       "      <td>0.789134</td>\n",
       "      <td>0.714167</td>\n",
       "      <td>0.749781</td>\n",
       "      <td>0.632996</td>\n",
       "    </tr>\n",
       "    <tr>\n",
       "      <th>4</th>\n",
       "      <td>AdaBoostClassifier(learning_rate=0.1, n_estima...</td>\n",
       "      <td>0.795981</td>\n",
       "      <td>0.734735</td>\n",
       "      <td>0.611667</td>\n",
       "      <td>0.667576</td>\n",
       "      <td>0.522172</td>\n",
       "    </tr>\n",
       "    <tr>\n",
       "      <th>5</th>\n",
       "      <td>GradientBoostingClassifier(max_depth=7)</td>\n",
       "      <td>0.793469</td>\n",
       "      <td>0.668375</td>\n",
       "      <td>0.760833</td>\n",
       "      <td>0.711613</td>\n",
       "      <td>0.551790</td>\n",
       "    </tr>\n",
       "    <tr>\n",
       "      <th>6</th>\n",
       "      <td>XGBClassifier(base_score=0.5, booster='gbtree'...</td>\n",
       "      <td>0.812727</td>\n",
       "      <td>0.714517</td>\n",
       "      <td>0.734167</td>\n",
       "      <td>0.724209</td>\n",
       "      <td>0.582478</td>\n",
       "    </tr>\n",
       "    <tr>\n",
       "      <th>7</th>\n",
       "      <td>VotingClassifier(estimators=[('Decision Tree',...</td>\n",
       "      <td>0.837566</td>\n",
       "      <td>0.780909</td>\n",
       "      <td>0.715833</td>\n",
       "      <td>0.746957</td>\n",
       "      <td>0.627684</td>\n",
       "    </tr>\n",
       "    <tr>\n",
       "      <th>8</th>\n",
       "      <td>VotingClassifier(estimators=[('Decision Tree 1...</td>\n",
       "      <td>0.843706</td>\n",
       "      <td>0.799625</td>\n",
       "      <td>0.711667</td>\n",
       "      <td>0.753086</td>\n",
       "      <td>0.639320</td>\n",
       "    </tr>\n",
       "  </tbody>\n",
       "</table>\n",
       "</div>"
      ],
      "text/plain": [
       "                                               Model  Accuracy  Precision  \\\n",
       "0                               LogisticRegression()  0.777282   0.735915   \n",
       "1                                       GaussianNB()  0.725370   0.594077   \n",
       "2                DecisionTreeClassifier(max_depth=5)  0.838124   0.789720   \n",
       "3  RandomForestClassifier(max_depth=5, max_featur...  0.840357   0.789134   \n",
       "4  AdaBoostClassifier(learning_rate=0.1, n_estima...  0.795981   0.734735   \n",
       "5            GradientBoostingClassifier(max_depth=7)  0.793469   0.668375   \n",
       "6  XGBClassifier(base_score=0.5, booster='gbtree'...  0.812727   0.714517   \n",
       "7  VotingClassifier(estimators=[('Decision Tree',...  0.837566   0.780909   \n",
       "8  VotingClassifier(estimators=[('Decision Tree 1...  0.843706   0.799625   \n",
       "\n",
       "     Recall  F1 Score  Cohen Kappa  \n",
       "0  0.522500  0.611111     0.461286  \n",
       "1  0.568333  0.580920     0.376835  \n",
       "2  0.704167  0.744493     0.626597  \n",
       "3  0.714167  0.749781     0.632996  \n",
       "4  0.611667  0.667576     0.522172  \n",
       "5  0.760833  0.711613     0.551790  \n",
       "6  0.734167  0.724209     0.582478  \n",
       "7  0.715833  0.746957     0.627684  \n",
       "8  0.711667  0.753086     0.639320  "
      ]
     },
     "execution_count": 88,
     "metadata": {},
     "output_type": "execute_result"
    }
   ],
   "source": [
    "scorecard"
   ]
  },
  {
   "cell_type": "markdown",
   "id": "f9545768",
   "metadata": {},
   "source": [
    "### Stacking"
   ]
  },
  {
   "cell_type": "code",
   "execution_count": 91,
   "id": "67885989",
   "metadata": {},
   "outputs": [
    {
     "data": {
      "text/plain": [
       "[('Decision Tree 1', DecisionTreeClassifier(max_depth=7)),\n",
       " ('Decision Tree 2', DecisionTreeClassifier(max_depth=5)),\n",
       " ('Random Forest 1', RandomForestClassifier(max_depth=5, n_estimators=150)),\n",
       " ('Random Forest 2', RandomForestClassifier(max_depth=7, n_estimators=200)),\n",
       " ('XGBoost',\n",
       "  XGBClassifier(base_score=None, booster=None, callbacks=None,\n",
       "                colsample_bylevel=None, colsample_bynode=None,\n",
       "                colsample_bytree=None, early_stopping_rounds=None,\n",
       "                enable_categorical=False, eval_metric=None, gamma=None,\n",
       "                gpu_id=None, grow_policy=None, importance_type=None,\n",
       "                interaction_constraints=None, learning_rate=None, max_bin=None,\n",
       "                max_cat_to_onehot=None, max_delta_step=None, max_depth=5,\n",
       "                max_leaves=None, min_child_weight=None, missing=nan,\n",
       "                monotone_constraints=None, n_estimators=200, n_jobs=None,\n",
       "                num_parallel_tree=None, predictor=None, random_state=None,\n",
       "                reg_alpha=None, reg_lambda=None, ...))]"
      ]
     },
     "execution_count": 91,
     "metadata": {},
     "output_type": "execute_result"
    }
   ],
   "source": [
    "base_estimators"
   ]
  },
  {
   "cell_type": "code",
   "execution_count": 92,
   "id": "dc24d270",
   "metadata": {},
   "outputs": [],
   "source": [
    "sc = StackingClassifier(estimators=base_estimators,\n",
    "                       final_estimator=DecisionTreeClassifier(max_depth=5),\n",
    "                       cv=7)"
   ]
  },
  {
   "cell_type": "code",
   "execution_count": 93,
   "id": "6d800f14",
   "metadata": {},
   "outputs": [
    {
     "data": {
      "text/html": [
       "<style>#sk-container-id-3 {color: black;}#sk-container-id-3 pre{padding: 0;}#sk-container-id-3 div.sk-toggleable {background-color: white;}#sk-container-id-3 label.sk-toggleable__label {cursor: pointer;display: block;width: 100%;margin-bottom: 0;padding: 0.3em;box-sizing: border-box;text-align: center;}#sk-container-id-3 label.sk-toggleable__label-arrow:before {content: \"▸\";float: left;margin-right: 0.25em;color: #696969;}#sk-container-id-3 label.sk-toggleable__label-arrow:hover:before {color: black;}#sk-container-id-3 div.sk-estimator:hover label.sk-toggleable__label-arrow:before {color: black;}#sk-container-id-3 div.sk-toggleable__content {max-height: 0;max-width: 0;overflow: hidden;text-align: left;background-color: #f0f8ff;}#sk-container-id-3 div.sk-toggleable__content pre {margin: 0.2em;color: black;border-radius: 0.25em;background-color: #f0f8ff;}#sk-container-id-3 input.sk-toggleable__control:checked~div.sk-toggleable__content {max-height: 200px;max-width: 100%;overflow: auto;}#sk-container-id-3 input.sk-toggleable__control:checked~label.sk-toggleable__label-arrow:before {content: \"▾\";}#sk-container-id-3 div.sk-estimator input.sk-toggleable__control:checked~label.sk-toggleable__label {background-color: #d4ebff;}#sk-container-id-3 div.sk-label input.sk-toggleable__control:checked~label.sk-toggleable__label {background-color: #d4ebff;}#sk-container-id-3 input.sk-hidden--visually {border: 0;clip: rect(1px 1px 1px 1px);clip: rect(1px, 1px, 1px, 1px);height: 1px;margin: -1px;overflow: hidden;padding: 0;position: absolute;width: 1px;}#sk-container-id-3 div.sk-estimator {font-family: monospace;background-color: #f0f8ff;border: 1px dotted black;border-radius: 0.25em;box-sizing: border-box;margin-bottom: 0.5em;}#sk-container-id-3 div.sk-estimator:hover {background-color: #d4ebff;}#sk-container-id-3 div.sk-parallel-item::after {content: \"\";width: 100%;border-bottom: 1px solid gray;flex-grow: 1;}#sk-container-id-3 div.sk-label:hover label.sk-toggleable__label {background-color: #d4ebff;}#sk-container-id-3 div.sk-serial::before {content: \"\";position: absolute;border-left: 1px solid gray;box-sizing: border-box;top: 0;bottom: 0;left: 50%;z-index: 0;}#sk-container-id-3 div.sk-serial {display: flex;flex-direction: column;align-items: center;background-color: white;padding-right: 0.2em;padding-left: 0.2em;position: relative;}#sk-container-id-3 div.sk-item {position: relative;z-index: 1;}#sk-container-id-3 div.sk-parallel {display: flex;align-items: stretch;justify-content: center;background-color: white;position: relative;}#sk-container-id-3 div.sk-item::before, #sk-container-id-3 div.sk-parallel-item::before {content: \"\";position: absolute;border-left: 1px solid gray;box-sizing: border-box;top: 0;bottom: 0;left: 50%;z-index: -1;}#sk-container-id-3 div.sk-parallel-item {display: flex;flex-direction: column;z-index: 1;position: relative;background-color: white;}#sk-container-id-3 div.sk-parallel-item:first-child::after {align-self: flex-end;width: 50%;}#sk-container-id-3 div.sk-parallel-item:last-child::after {align-self: flex-start;width: 50%;}#sk-container-id-3 div.sk-parallel-item:only-child::after {width: 0;}#sk-container-id-3 div.sk-dashed-wrapped {border: 1px dashed gray;margin: 0 0.4em 0.5em 0.4em;box-sizing: border-box;padding-bottom: 0.4em;background-color: white;}#sk-container-id-3 div.sk-label label {font-family: monospace;font-weight: bold;display: inline-block;line-height: 1.2em;}#sk-container-id-3 div.sk-label-container {text-align: center;}#sk-container-id-3 div.sk-container {/* jupyter's `normalize.less` sets `[hidden] { display: none; }` but bootstrap.min.css set `[hidden] { display: none !important; }` so we also need the `!important` here to be able to override the default hidden behavior on the sphinx rendered scikit-learn.org. See: https://github.com/scikit-learn/scikit-learn/issues/21755 */display: inline-block !important;position: relative;}#sk-container-id-3 div.sk-text-repr-fallback {display: none;}</style><div id=\"sk-container-id-3\" class=\"sk-top-container\"><div class=\"sk-text-repr-fallback\"><pre>StackingClassifier(cv=7,\n",
       "                   estimators=[(&#x27;Decision Tree 1&#x27;,\n",
       "                                DecisionTreeClassifier(max_depth=7)),\n",
       "                               (&#x27;Decision Tree 2&#x27;,\n",
       "                                DecisionTreeClassifier(max_depth=5)),\n",
       "                               (&#x27;Random Forest 1&#x27;,\n",
       "                                RandomForestClassifier(max_depth=5,\n",
       "                                                       n_estimators=150)),\n",
       "                               (&#x27;Random Forest 2&#x27;,\n",
       "                                RandomForestClassifier(max_depth=7,\n",
       "                                                       n_estimators=200)),\n",
       "                               (&#x27;XGBoost&#x27;,\n",
       "                                XGBClassifier(base_score=None, booster=None,\n",
       "                                              callbacks=...\n",
       "                                              interaction_constraints=None,\n",
       "                                              learning_rate=None, max_bin=None,\n",
       "                                              max_cat_to_onehot=None,\n",
       "                                              max_delta_step=None, max_depth=5,\n",
       "                                              max_leaves=None,\n",
       "                                              min_child_weight=None,\n",
       "                                              missing=nan,\n",
       "                                              monotone_constraints=None,\n",
       "                                              n_estimators=200, n_jobs=None,\n",
       "                                              num_parallel_tree=None,\n",
       "                                              predictor=None, random_state=None,\n",
       "                                              reg_alpha=None, reg_lambda=None, ...))],\n",
       "                   final_estimator=DecisionTreeClassifier(max_depth=5))</pre><b>In a Jupyter environment, please rerun this cell to show the HTML representation or trust the notebook. <br />On GitHub, the HTML representation is unable to render, please try loading this page with nbviewer.org.</b></div><div class=\"sk-container\" hidden><div class=\"sk-item sk-dashed-wrapped\"><div class=\"sk-label-container\"><div class=\"sk-label sk-toggleable\"><input class=\"sk-toggleable__control sk-hidden--visually\" id=\"sk-estimator-id-11\" type=\"checkbox\" ><label for=\"sk-estimator-id-11\" class=\"sk-toggleable__label sk-toggleable__label-arrow\">StackingClassifier</label><div class=\"sk-toggleable__content\"><pre>StackingClassifier(cv=7,\n",
       "                   estimators=[(&#x27;Decision Tree 1&#x27;,\n",
       "                                DecisionTreeClassifier(max_depth=7)),\n",
       "                               (&#x27;Decision Tree 2&#x27;,\n",
       "                                DecisionTreeClassifier(max_depth=5)),\n",
       "                               (&#x27;Random Forest 1&#x27;,\n",
       "                                RandomForestClassifier(max_depth=5,\n",
       "                                                       n_estimators=150)),\n",
       "                               (&#x27;Random Forest 2&#x27;,\n",
       "                                RandomForestClassifier(max_depth=7,\n",
       "                                                       n_estimators=200)),\n",
       "                               (&#x27;XGBoost&#x27;,\n",
       "                                XGBClassifier(base_score=None, booster=None,\n",
       "                                              callbacks=...\n",
       "                                              interaction_constraints=None,\n",
       "                                              learning_rate=None, max_bin=None,\n",
       "                                              max_cat_to_onehot=None,\n",
       "                                              max_delta_step=None, max_depth=5,\n",
       "                                              max_leaves=None,\n",
       "                                              min_child_weight=None,\n",
       "                                              missing=nan,\n",
       "                                              monotone_constraints=None,\n",
       "                                              n_estimators=200, n_jobs=None,\n",
       "                                              num_parallel_tree=None,\n",
       "                                              predictor=None, random_state=None,\n",
       "                                              reg_alpha=None, reg_lambda=None, ...))],\n",
       "                   final_estimator=DecisionTreeClassifier(max_depth=5))</pre></div></div></div><div class=\"sk-serial\"><div class=\"sk-item\"><div class=\"sk-parallel\"><div class=\"sk-parallel-item\"><div class=\"sk-item\"><div class=\"sk-label-container\"><div class=\"sk-label sk-toggleable\"><label>Decision Tree 1</label></div></div><div class=\"sk-serial\"><div class=\"sk-item\"><div class=\"sk-estimator sk-toggleable\"><input class=\"sk-toggleable__control sk-hidden--visually\" id=\"sk-estimator-id-12\" type=\"checkbox\" ><label for=\"sk-estimator-id-12\" class=\"sk-toggleable__label sk-toggleable__label-arrow\">DecisionTreeClassifier</label><div class=\"sk-toggleable__content\"><pre>DecisionTreeClassifier(max_depth=7)</pre></div></div></div></div></div></div><div class=\"sk-parallel-item\"><div class=\"sk-item\"><div class=\"sk-label-container\"><div class=\"sk-label sk-toggleable\"><label>Decision Tree 2</label></div></div><div class=\"sk-serial\"><div class=\"sk-item\"><div class=\"sk-estimator sk-toggleable\"><input class=\"sk-toggleable__control sk-hidden--visually\" id=\"sk-estimator-id-13\" type=\"checkbox\" ><label for=\"sk-estimator-id-13\" class=\"sk-toggleable__label sk-toggleable__label-arrow\">DecisionTreeClassifier</label><div class=\"sk-toggleable__content\"><pre>DecisionTreeClassifier(max_depth=5)</pre></div></div></div></div></div></div><div class=\"sk-parallel-item\"><div class=\"sk-item\"><div class=\"sk-label-container\"><div class=\"sk-label sk-toggleable\"><label>Random Forest 1</label></div></div><div class=\"sk-serial\"><div class=\"sk-item\"><div class=\"sk-estimator sk-toggleable\"><input class=\"sk-toggleable__control sk-hidden--visually\" id=\"sk-estimator-id-14\" type=\"checkbox\" ><label for=\"sk-estimator-id-14\" class=\"sk-toggleable__label sk-toggleable__label-arrow\">RandomForestClassifier</label><div class=\"sk-toggleable__content\"><pre>RandomForestClassifier(max_depth=5, n_estimators=150)</pre></div></div></div></div></div></div><div class=\"sk-parallel-item\"><div class=\"sk-item\"><div class=\"sk-label-container\"><div class=\"sk-label sk-toggleable\"><label>Random Forest 2</label></div></div><div class=\"sk-serial\"><div class=\"sk-item\"><div class=\"sk-estimator sk-toggleable\"><input class=\"sk-toggleable__control sk-hidden--visually\" id=\"sk-estimator-id-15\" type=\"checkbox\" ><label for=\"sk-estimator-id-15\" class=\"sk-toggleable__label sk-toggleable__label-arrow\">RandomForestClassifier</label><div class=\"sk-toggleable__content\"><pre>RandomForestClassifier(max_depth=7, n_estimators=200)</pre></div></div></div></div></div></div><div class=\"sk-parallel-item\"><div class=\"sk-item\"><div class=\"sk-label-container\"><div class=\"sk-label sk-toggleable\"><label>XGBoost</label></div></div><div class=\"sk-serial\"><div class=\"sk-item\"><div class=\"sk-estimator sk-toggleable\"><input class=\"sk-toggleable__control sk-hidden--visually\" id=\"sk-estimator-id-16\" type=\"checkbox\" ><label for=\"sk-estimator-id-16\" class=\"sk-toggleable__label sk-toggleable__label-arrow\">XGBClassifier</label><div class=\"sk-toggleable__content\"><pre>XGBClassifier(base_score=None, booster=None, callbacks=None,\n",
       "              colsample_bylevel=None, colsample_bynode=None,\n",
       "              colsample_bytree=None, early_stopping_rounds=None,\n",
       "              enable_categorical=False, eval_metric=None, gamma=None,\n",
       "              gpu_id=None, grow_policy=None, importance_type=None,\n",
       "              interaction_constraints=None, learning_rate=None, max_bin=None,\n",
       "              max_cat_to_onehot=None, max_delta_step=None, max_depth=5,\n",
       "              max_leaves=None, min_child_weight=None, missing=nan,\n",
       "              monotone_constraints=None, n_estimators=200, n_jobs=None,\n",
       "              num_parallel_tree=None, predictor=None, random_state=None,\n",
       "              reg_alpha=None, reg_lambda=None, ...)</pre></div></div></div></div></div></div></div></div><div class=\"sk-item\"><div class=\"sk-parallel\"><div class=\"sk-parallel-item\"><div class=\"sk-item\"><div class=\"sk-label-container\"><div class=\"sk-label sk-toggleable\"><label>final_estimator</label></div></div><div class=\"sk-serial\"><div class=\"sk-item\"><div class=\"sk-estimator sk-toggleable\"><input class=\"sk-toggleable__control sk-hidden--visually\" id=\"sk-estimator-id-17\" type=\"checkbox\" ><label for=\"sk-estimator-id-17\" class=\"sk-toggleable__label sk-toggleable__label-arrow\">DecisionTreeClassifier</label><div class=\"sk-toggleable__content\"><pre>DecisionTreeClassifier(max_depth=5)</pre></div></div></div></div></div></div></div></div></div></div></div></div>"
      ],
      "text/plain": [
       "StackingClassifier(cv=7,\n",
       "                   estimators=[('Decision Tree 1',\n",
       "                                DecisionTreeClassifier(max_depth=7)),\n",
       "                               ('Decision Tree 2',\n",
       "                                DecisionTreeClassifier(max_depth=5)),\n",
       "                               ('Random Forest 1',\n",
       "                                RandomForestClassifier(max_depth=5,\n",
       "                                                       n_estimators=150)),\n",
       "                               ('Random Forest 2',\n",
       "                                RandomForestClassifier(max_depth=7,\n",
       "                                                       n_estimators=200)),\n",
       "                               ('XGBoost',\n",
       "                                XGBClassifier(base_score=None, booster=None,\n",
       "                                              callbacks=...\n",
       "                                              interaction_constraints=None,\n",
       "                                              learning_rate=None, max_bin=None,\n",
       "                                              max_cat_to_onehot=None,\n",
       "                                              max_delta_step=None, max_depth=5,\n",
       "                                              max_leaves=None,\n",
       "                                              min_child_weight=None,\n",
       "                                              missing=nan,\n",
       "                                              monotone_constraints=None,\n",
       "                                              n_estimators=200, n_jobs=None,\n",
       "                                              num_parallel_tree=None,\n",
       "                                              predictor=None, random_state=None,\n",
       "                                              reg_alpha=None, reg_lambda=None, ...))],\n",
       "                   final_estimator=DecisionTreeClassifier(max_depth=5))"
      ]
     },
     "execution_count": 93,
     "metadata": {},
     "output_type": "execute_result"
    }
   ],
   "source": [
    "sc.fit(x_train,y_train)"
   ]
  },
  {
   "cell_type": "code",
   "execution_count": 95,
   "id": "0432a68e",
   "metadata": {},
   "outputs": [
    {
     "name": "stdout",
     "output_type": "stream",
     "text": [
      "Confusion Matrix\n",
      " [[2271  112]\n",
      " [ 594  606]]\n",
      "Classification Report\n",
      "               precision    recall  f1-score   support\n",
      "\n",
      "           0       0.79      0.95      0.87      2383\n",
      "           1       0.84      0.51      0.63      1200\n",
      "\n",
      "    accuracy                           0.80      3583\n",
      "   macro avg       0.82      0.73      0.75      3583\n",
      "weighted avg       0.81      0.80      0.79      3583\n",
      "\n"
     ]
    },
    {
     "data": {
      "image/png": "[encoded data removed]",
      "text/plain": [
       "<Figure size 432x288 with 1 Axes>"
      ]
     },
     "metadata": {
      "needs_background": "light"
     },
     "output_type": "display_data"
    },
    {
     "name": "stdout",
     "output_type": "stream",
     "text": [
      "Do you want to save a model Y/N?y\n"
     ]
    }
   ],
   "source": [
    "model_validation(StackingClassifier(estimators=base_estimators,cv=7),\n",
    "                x_train,y_train,x_test,y_test)"
   ]
  },
  {
   "cell_type": "code",
   "execution_count": 96,
   "id": "3d1ce633",
   "metadata": {
    "scrolled": true
   },
   "outputs": [
    {
     "data": {
      "text/html": [
       "<div>\n",
       "<style scoped>\n",
       "    .dataframe tbody tr th:only-of-type {\n",
       "        vertical-align: middle;\n",
       "    }\n",
       "\n",
       "    .dataframe tbody tr th {\n",
       "        vertical-align: top;\n",
       "    }\n",
       "\n",
       "    .dataframe thead th {\n",
       "        text-align: right;\n",
       "    }\n",
       "</style>\n",
       "<table border=\"1\" class=\"dataframe\">\n",
       "  <thead>\n",
       "    <tr style=\"text-align: right;\">\n",
       "      <th></th>\n",
       "      <th>Model</th>\n",
       "      <th>Accuracy</th>\n",
       "      <th>Precision</th>\n",
       "      <th>Recall</th>\n",
       "      <th>F1 Score</th>\n",
       "      <th>Cohen Kappa</th>\n",
       "    </tr>\n",
       "  </thead>\n",
       "  <tbody>\n",
       "    <tr>\n",
       "      <th>0</th>\n",
       "      <td>LogisticRegression()</td>\n",
       "      <td>0.777282</td>\n",
       "      <td>0.735915</td>\n",
       "      <td>0.522500</td>\n",
       "      <td>0.611111</td>\n",
       "      <td>0.461286</td>\n",
       "    </tr>\n",
       "    <tr>\n",
       "      <th>1</th>\n",
       "      <td>GaussianNB()</td>\n",
       "      <td>0.725370</td>\n",
       "      <td>0.594077</td>\n",
       "      <td>0.568333</td>\n",
       "      <td>0.580920</td>\n",
       "      <td>0.376835</td>\n",
       "    </tr>\n",
       "    <tr>\n",
       "      <th>2</th>\n",
       "      <td>DecisionTreeClassifier(max_depth=5)</td>\n",
       "      <td>0.838124</td>\n",
       "      <td>0.789720</td>\n",
       "      <td>0.704167</td>\n",
       "      <td>0.744493</td>\n",
       "      <td>0.626597</td>\n",
       "    </tr>\n",
       "    <tr>\n",
       "      <th>3</th>\n",
       "      <td>RandomForestClassifier(max_depth=5, max_featur...</td>\n",
       "      <td>0.840357</td>\n",
       "      <td>0.789134</td>\n",
       "      <td>0.714167</td>\n",
       "      <td>0.749781</td>\n",
       "      <td>0.632996</td>\n",
       "    </tr>\n",
       "    <tr>\n",
       "      <th>4</th>\n",
       "      <td>AdaBoostClassifier(learning_rate=0.1, n_estima...</td>\n",
       "      <td>0.795981</td>\n",
       "      <td>0.734735</td>\n",
       "      <td>0.611667</td>\n",
       "      <td>0.667576</td>\n",
       "      <td>0.522172</td>\n",
       "    </tr>\n",
       "    <tr>\n",
       "      <th>5</th>\n",
       "      <td>GradientBoostingClassifier(max_depth=7)</td>\n",
       "      <td>0.793469</td>\n",
       "      <td>0.668375</td>\n",
       "      <td>0.760833</td>\n",
       "      <td>0.711613</td>\n",
       "      <td>0.551790</td>\n",
       "    </tr>\n",
       "    <tr>\n",
       "      <th>6</th>\n",
       "      <td>XGBClassifier(base_score=0.5, booster='gbtree'...</td>\n",
       "      <td>0.812727</td>\n",
       "      <td>0.714517</td>\n",
       "      <td>0.734167</td>\n",
       "      <td>0.724209</td>\n",
       "      <td>0.582478</td>\n",
       "    </tr>\n",
       "    <tr>\n",
       "      <th>7</th>\n",
       "      <td>VotingClassifier(estimators=[('Decision Tree',...</td>\n",
       "      <td>0.837566</td>\n",
       "      <td>0.780909</td>\n",
       "      <td>0.715833</td>\n",
       "      <td>0.746957</td>\n",
       "      <td>0.627684</td>\n",
       "    </tr>\n",
       "    <tr>\n",
       "      <th>8</th>\n",
       "      <td>VotingClassifier(estimators=[('Decision Tree 1...</td>\n",
       "      <td>0.843706</td>\n",
       "      <td>0.799625</td>\n",
       "      <td>0.711667</td>\n",
       "      <td>0.753086</td>\n",
       "      <td>0.639320</td>\n",
       "    </tr>\n",
       "    <tr>\n",
       "      <th>9</th>\n",
       "      <td>StackingClassifier(cv=7,\\n                   e...</td>\n",
       "      <td>0.802958</td>\n",
       "      <td>0.844011</td>\n",
       "      <td>0.505000</td>\n",
       "      <td>0.631908</td>\n",
       "      <td>0.508720</td>\n",
       "    </tr>\n",
       "  </tbody>\n",
       "</table>\n",
       "</div>"
      ],
      "text/plain": [
       "                                               Model  Accuracy  Precision  \\\n",
       "0                               LogisticRegression()  0.777282   0.735915   \n",
       "1                                       GaussianNB()  0.725370   0.594077   \n",
       "2                DecisionTreeClassifier(max_depth=5)  0.838124   0.789720   \n",
       "3  RandomForestClassifier(max_depth=5, max_featur...  0.840357   0.789134   \n",
       "4  AdaBoostClassifier(learning_rate=0.1, n_estima...  0.795981   0.734735   \n",
       "5            GradientBoostingClassifier(max_depth=7)  0.793469   0.668375   \n",
       "6  XGBClassifier(base_score=0.5, booster='gbtree'...  0.812727   0.714517   \n",
       "7  VotingClassifier(estimators=[('Decision Tree',...  0.837566   0.780909   \n",
       "8  VotingClassifier(estimators=[('Decision Tree 1...  0.843706   0.799625   \n",
       "9  StackingClassifier(cv=7,\\n                   e...  0.802958   0.844011   \n",
       "\n",
       "     Recall  F1 Score  Cohen Kappa  \n",
       "0  0.522500  0.611111     0.461286  \n",
       "1  0.568333  0.580920     0.376835  \n",
       "2  0.704167  0.744493     0.626597  \n",
       "3  0.714167  0.749781     0.632996  \n",
       "4  0.611667  0.667576     0.522172  \n",
       "5  0.760833  0.711613     0.551790  \n",
       "6  0.734167  0.724209     0.582478  \n",
       "7  0.715833  0.746957     0.627684  \n",
       "8  0.711667  0.753086     0.639320  \n",
       "9  0.505000  0.631908     0.508720  "
      ]
     },
     "execution_count": 96,
     "metadata": {},
     "output_type": "execute_result"
    }
   ],
   "source": [
    "scorecard"
   ]
  },
  {
   "cell_type": "markdown",
   "id": "a75d0e71",
   "metadata": {},
   "source": [
    "After comparing the score card Voting and Random forest gives best recall and F1 score. But in terms of complexity Random fores is less complex hence its execution will be fast. So we will go with Random forest for fine tuning and deployment."
   ]
  },
  {
   "cell_type": "markdown",
   "id": "ad0a99ae",
   "metadata": {},
   "source": [
    "### Fine Tune the final model"
   ]
  },
  {
   "cell_type": "code",
   "execution_count": 97,
   "id": "645a6a0d",
   "metadata": {},
   "outputs": [],
   "source": [
    "from sklearn.model_selection import GridSearchCV"
   ]
  },
  {
   "cell_type": "code",
   "execution_count": 104,
   "id": "5fb8dd5d",
   "metadata": {},
   "outputs": [],
   "source": [
    "param = {'n_estimators':[70,100,120],\n",
    "        'max_features':[9,10,11],\n",
    "        'max_depth':[7,8,9,10]}"
   ]
  },
  {
   "cell_type": "code",
   "execution_count": 105,
   "id": "f379d1b6",
   "metadata": {},
   "outputs": [],
   "source": [
    "gscv = GridSearchCV(estimator=RandomForestClassifier(),\n",
    "                   param_grid=param,scoring='f1',verbose=1,cv=4)"
   ]
  },
  {
   "cell_type": "raw",
   "id": "d7ee083f",
   "metadata": {},
   "source": [
    "gscv.fit(x_train,y_train)"
   ]
  },
  {
   "cell_type": "raw",
   "id": "62cbefeb",
   "metadata": {},
   "source": [
    "gscv.best_score"
   ]
  },
  {
   "cell_type": "raw",
   "id": "97766434",
   "metadata": {},
   "source": [
    "gscv.best_params"
   ]
  },
  {
   "cell_type": "code",
   "execution_count": 108,
   "id": "7f486332",
   "metadata": {},
   "outputs": [
    {
     "name": "stdout",
     "output_type": "stream",
     "text": [
      "Confusion Matrix\n",
      " [[2135  248]\n",
      " [ 302  898]]\n",
      "Classification Report\n",
      "               precision    recall  f1-score   support\n",
      "\n",
      "           0       0.88      0.90      0.89      2383\n",
      "           1       0.78      0.75      0.77      1200\n",
      "\n",
      "    accuracy                           0.85      3583\n",
      "   macro avg       0.83      0.82      0.83      3583\n",
      "weighted avg       0.85      0.85      0.85      3583\n",
      "\n"
     ]
    },
    {
     "data": {
      "image/png": "[encoded data removed]",
      "text/plain": [
       "<Figure size 432x288 with 1 Axes>"
      ]
     },
     "metadata": {
      "needs_background": "light"
     },
     "output_type": "display_data"
    },
    {
     "name": "stdout",
     "output_type": "stream",
     "text": [
      "Do you want to save a model Y/N?y\n"
     ]
    }
   ],
   "source": [
    "model_validation(RandomForestClassifier(max_depth=6,max_features=11,n_estimators=150),\n",
    "                x_train,y_train,x_test,y_test)"
   ]
  },
  {
   "cell_type": "code",
   "execution_count": 109,
   "id": "0dee863d",
   "metadata": {},
   "outputs": [
    {
     "data": {
      "text/html": [
       "<div>\n",
       "<style scoped>\n",
       "    .dataframe tbody tr th:only-of-type {\n",
       "        vertical-align: middle;\n",
       "    }\n",
       "\n",
       "    .dataframe tbody tr th {\n",
       "        vertical-align: top;\n",
       "    }\n",
       "\n",
       "    .dataframe thead th {\n",
       "        text-align: right;\n",
       "    }\n",
       "</style>\n",
       "<table border=\"1\" class=\"dataframe\">\n",
       "  <thead>\n",
       "    <tr style=\"text-align: right;\">\n",
       "      <th></th>\n",
       "      <th>Model</th>\n",
       "      <th>Accuracy</th>\n",
       "      <th>Precision</th>\n",
       "      <th>Recall</th>\n",
       "      <th>F1 Score</th>\n",
       "      <th>Cohen Kappa</th>\n",
       "    </tr>\n",
       "  </thead>\n",
       "  <tbody>\n",
       "    <tr>\n",
       "      <th>0</th>\n",
       "      <td>LogisticRegression()</td>\n",
       "      <td>0.777282</td>\n",
       "      <td>0.735915</td>\n",
       "      <td>0.522500</td>\n",
       "      <td>0.611111</td>\n",
       "      <td>0.461286</td>\n",
       "    </tr>\n",
       "    <tr>\n",
       "      <th>1</th>\n",
       "      <td>GaussianNB()</td>\n",
       "      <td>0.725370</td>\n",
       "      <td>0.594077</td>\n",
       "      <td>0.568333</td>\n",
       "      <td>0.580920</td>\n",
       "      <td>0.376835</td>\n",
       "    </tr>\n",
       "    <tr>\n",
       "      <th>2</th>\n",
       "      <td>DecisionTreeClassifier(max_depth=5)</td>\n",
       "      <td>0.838124</td>\n",
       "      <td>0.789720</td>\n",
       "      <td>0.704167</td>\n",
       "      <td>0.744493</td>\n",
       "      <td>0.626597</td>\n",
       "    </tr>\n",
       "    <tr>\n",
       "      <th>3</th>\n",
       "      <td>RandomForestClassifier(max_depth=5, max_featur...</td>\n",
       "      <td>0.840357</td>\n",
       "      <td>0.789134</td>\n",
       "      <td>0.714167</td>\n",
       "      <td>0.749781</td>\n",
       "      <td>0.632996</td>\n",
       "    </tr>\n",
       "    <tr>\n",
       "      <th>4</th>\n",
       "      <td>AdaBoostClassifier(learning_rate=0.1, n_estima...</td>\n",
       "      <td>0.795981</td>\n",
       "      <td>0.734735</td>\n",
       "      <td>0.611667</td>\n",
       "      <td>0.667576</td>\n",
       "      <td>0.522172</td>\n",
       "    </tr>\n",
       "    <tr>\n",
       "      <th>5</th>\n",
       "      <td>GradientBoostingClassifier(max_depth=7)</td>\n",
       "      <td>0.793469</td>\n",
       "      <td>0.668375</td>\n",
       "      <td>0.760833</td>\n",
       "      <td>0.711613</td>\n",
       "      <td>0.551790</td>\n",
       "    </tr>\n",
       "    <tr>\n",
       "      <th>6</th>\n",
       "      <td>XGBClassifier(base_score=0.5, booster='gbtree'...</td>\n",
       "      <td>0.812727</td>\n",
       "      <td>0.714517</td>\n",
       "      <td>0.734167</td>\n",
       "      <td>0.724209</td>\n",
       "      <td>0.582478</td>\n",
       "    </tr>\n",
       "    <tr>\n",
       "      <th>7</th>\n",
       "      <td>VotingClassifier(estimators=[('Decision Tree',...</td>\n",
       "      <td>0.837566</td>\n",
       "      <td>0.780909</td>\n",
       "      <td>0.715833</td>\n",
       "      <td>0.746957</td>\n",
       "      <td>0.627684</td>\n",
       "    </tr>\n",
       "    <tr>\n",
       "      <th>8</th>\n",
       "      <td>VotingClassifier(estimators=[('Decision Tree 1...</td>\n",
       "      <td>0.843706</td>\n",
       "      <td>0.799625</td>\n",
       "      <td>0.711667</td>\n",
       "      <td>0.753086</td>\n",
       "      <td>0.639320</td>\n",
       "    </tr>\n",
       "    <tr>\n",
       "      <th>9</th>\n",
       "      <td>StackingClassifier(cv=7,\\n                   e...</td>\n",
       "      <td>0.802958</td>\n",
       "      <td>0.844011</td>\n",
       "      <td>0.505000</td>\n",
       "      <td>0.631908</td>\n",
       "      <td>0.508720</td>\n",
       "    </tr>\n",
       "    <tr>\n",
       "      <th>10</th>\n",
       "      <td>RandomForestClassifier(max_depth=6, max_featur...</td>\n",
       "      <td>0.846497</td>\n",
       "      <td>0.783595</td>\n",
       "      <td>0.748333</td>\n",
       "      <td>0.765558</td>\n",
       "      <td>0.651540</td>\n",
       "    </tr>\n",
       "  </tbody>\n",
       "</table>\n",
       "</div>"
      ],
      "text/plain": [
       "                                                Model  Accuracy  Precision  \\\n",
       "0                                LogisticRegression()  0.777282   0.735915   \n",
       "1                                        GaussianNB()  0.725370   0.594077   \n",
       "2                 DecisionTreeClassifier(max_depth=5)  0.838124   0.789720   \n",
       "3   RandomForestClassifier(max_depth=5, max_featur...  0.840357   0.789134   \n",
       "4   AdaBoostClassifier(learning_rate=0.1, n_estima...  0.795981   0.734735   \n",
       "5             GradientBoostingClassifier(max_depth=7)  0.793469   0.668375   \n",
       "6   XGBClassifier(base_score=0.5, booster='gbtree'...  0.812727   0.714517   \n",
       "7   VotingClassifier(estimators=[('Decision Tree',...  0.837566   0.780909   \n",
       "8   VotingClassifier(estimators=[('Decision Tree 1...  0.843706   0.799625   \n",
       "9   StackingClassifier(cv=7,\\n                   e...  0.802958   0.844011   \n",
       "10  RandomForestClassifier(max_depth=6, max_featur...  0.846497   0.783595   \n",
       "\n",
       "      Recall  F1 Score  Cohen Kappa  \n",
       "0   0.522500  0.611111     0.461286  \n",
       "1   0.568333  0.580920     0.376835  \n",
       "2   0.704167  0.744493     0.626597  \n",
       "3   0.714167  0.749781     0.632996  \n",
       "4   0.611667  0.667576     0.522172  \n",
       "5   0.760833  0.711613     0.551790  \n",
       "6   0.734167  0.724209     0.582478  \n",
       "7   0.715833  0.746957     0.627684  \n",
       "8   0.711667  0.753086     0.639320  \n",
       "9   0.505000  0.631908     0.508720  \n",
       "10  0.748333  0.765558     0.651540  "
      ]
     },
     "execution_count": 109,
     "metadata": {},
     "output_type": "execute_result"
    }
   ],
   "source": [
    "scorecard"
   ]
  },
  {
   "cell_type": "code",
   "execution_count": 110,
   "id": "e52e90de",
   "metadata": {},
   "outputs": [],
   "source": [
    "final_model = RandomForestClassifier(n_estimators=150,\n",
    "                                    max_depth=6,\n",
    "                                    max_features=11)"
   ]
  },
  {
   "cell_type": "code",
   "execution_count": 111,
   "id": "62c36ad0",
   "metadata": {},
   "outputs": [
    {
     "data": {
      "text/html": [
       "<style>#sk-container-id-4 {color: black;}#sk-container-id-4 pre{padding: 0;}#sk-container-id-4 div.sk-toggleable {background-color: white;}#sk-container-id-4 label.sk-toggleable__label {cursor: pointer;display: block;width: 100%;margin-bottom: 0;padding: 0.3em;box-sizing: border-box;text-align: center;}#sk-container-id-4 label.sk-toggleable__label-arrow:before {content: \"▸\";float: left;margin-right: 0.25em;color: #696969;}#sk-container-id-4 label.sk-toggleable__label-arrow:hover:before {color: black;}#sk-container-id-4 div.sk-estimator:hover label.sk-toggleable__label-arrow:before {color: black;}#sk-container-id-4 div.sk-toggleable__content {max-height: 0;max-width: 0;overflow: hidden;text-align: left;background-color: #f0f8ff;}#sk-container-id-4 div.sk-toggleable__content pre {margin: 0.2em;color: black;border-radius: 0.25em;background-color: #f0f8ff;}#sk-container-id-4 input.sk-toggleable__control:checked~div.sk-toggleable__content {max-height: 200px;max-width: 100%;overflow: auto;}#sk-container-id-4 input.sk-toggleable__control:checked~label.sk-toggleable__label-arrow:before {content: \"▾\";}#sk-container-id-4 div.sk-estimator input.sk-toggleable__control:checked~label.sk-toggleable__label {background-color: #d4ebff;}#sk-container-id-4 div.sk-label input.sk-toggleable__control:checked~label.sk-toggleable__label {background-color: #d4ebff;}#sk-container-id-4 input.sk-hidden--visually {border: 0;clip: rect(1px 1px 1px 1px);clip: rect(1px, 1px, 1px, 1px);height: 1px;margin: -1px;overflow: hidden;padding: 0;position: absolute;width: 1px;}#sk-container-id-4 div.sk-estimator {font-family: monospace;background-color: #f0f8ff;border: 1px dotted black;border-radius: 0.25em;box-sizing: border-box;margin-bottom: 0.5em;}#sk-container-id-4 div.sk-estimator:hover {background-color: #d4ebff;}#sk-container-id-4 div.sk-parallel-item::after {content: \"\";width: 100%;border-bottom: 1px solid gray;flex-grow: 1;}#sk-container-id-4 div.sk-label:hover label.sk-toggleable__label {background-color: #d4ebff;}#sk-container-id-4 div.sk-serial::before {content: \"\";position: absolute;border-left: 1px solid gray;box-sizing: border-box;top: 0;bottom: 0;left: 50%;z-index: 0;}#sk-container-id-4 div.sk-serial {display: flex;flex-direction: column;align-items: center;background-color: white;padding-right: 0.2em;padding-left: 0.2em;position: relative;}#sk-container-id-4 div.sk-item {position: relative;z-index: 1;}#sk-container-id-4 div.sk-parallel {display: flex;align-items: stretch;justify-content: center;background-color: white;position: relative;}#sk-container-id-4 div.sk-item::before, #sk-container-id-4 div.sk-parallel-item::before {content: \"\";position: absolute;border-left: 1px solid gray;box-sizing: border-box;top: 0;bottom: 0;left: 50%;z-index: -1;}#sk-container-id-4 div.sk-parallel-item {display: flex;flex-direction: column;z-index: 1;position: relative;background-color: white;}#sk-container-id-4 div.sk-parallel-item:first-child::after {align-self: flex-end;width: 50%;}#sk-container-id-4 div.sk-parallel-item:last-child::after {align-self: flex-start;width: 50%;}#sk-container-id-4 div.sk-parallel-item:only-child::after {width: 0;}#sk-container-id-4 div.sk-dashed-wrapped {border: 1px dashed gray;margin: 0 0.4em 0.5em 0.4em;box-sizing: border-box;padding-bottom: 0.4em;background-color: white;}#sk-container-id-4 div.sk-label label {font-family: monospace;font-weight: bold;display: inline-block;line-height: 1.2em;}#sk-container-id-4 div.sk-label-container {text-align: center;}#sk-container-id-4 div.sk-container {/* jupyter's `normalize.less` sets `[hidden] { display: none; }` but bootstrap.min.css set `[hidden] { display: none !important; }` so we also need the `!important` here to be able to override the default hidden behavior on the sphinx rendered scikit-learn.org. See: https://github.com/scikit-learn/scikit-learn/issues/21755 */display: inline-block !important;position: relative;}#sk-container-id-4 div.sk-text-repr-fallback {display: none;}</style><div id=\"sk-container-id-4\" class=\"sk-top-container\"><div class=\"sk-text-repr-fallback\"><pre>RandomForestClassifier(max_depth=6, max_features=11, n_estimators=150)</pre><b>In a Jupyter environment, please rerun this cell to show the HTML representation or trust the notebook. <br />On GitHub, the HTML representation is unable to render, please try loading this page with nbviewer.org.</b></div><div class=\"sk-container\" hidden><div class=\"sk-item\"><div class=\"sk-estimator sk-toggleable\"><input class=\"sk-toggleable__control sk-hidden--visually\" id=\"sk-estimator-id-18\" type=\"checkbox\" checked><label for=\"sk-estimator-id-18\" class=\"sk-toggleable__label sk-toggleable__label-arrow\">RandomForestClassifier</label><div class=\"sk-toggleable__content\"><pre>RandomForestClassifier(max_depth=6, max_features=11, n_estimators=150)</pre></div></div></div></div></div>"
      ],
      "text/plain": [
       "RandomForestClassifier(max_depth=6, max_features=11, n_estimators=150)"
      ]
     },
     "execution_count": 111,
     "metadata": {},
     "output_type": "execute_result"
    }
   ],
   "source": [
    "final_model.fit(x_train,y_train)"
   ]
  },
  {
   "cell_type": "code",
   "execution_count": 112,
   "id": "3f27b672",
   "metadata": {},
   "outputs": [],
   "source": [
    "pred_s = final_model.predict_proba(x_test)[:,1]"
   ]
  },
  {
   "cell_type": "code",
   "execution_count": 113,
   "id": "1bcf9189",
   "metadata": {},
   "outputs": [],
   "source": [
    "# Lets try to find out best cut off classifier using Yodens index\n",
    "\n",
    "fpr,tpr,thres = roc_curve(y_test,pred_s)"
   ]
  },
  {
   "cell_type": "code",
   "execution_count": 114,
   "id": "629efbe8",
   "metadata": {},
   "outputs": [
    {
     "data": {
      "text/html": [
       "<div>\n",
       "<style scoped>\n",
       "    .dataframe tbody tr th:only-of-type {\n",
       "        vertical-align: middle;\n",
       "    }\n",
       "\n",
       "    .dataframe tbody tr th {\n",
       "        vertical-align: top;\n",
       "    }\n",
       "\n",
       "    .dataframe thead th {\n",
       "        text-align: right;\n",
       "    }\n",
       "</style>\n",
       "<table border=\"1\" class=\"dataframe\">\n",
       "  <thead>\n",
       "    <tr style=\"text-align: right;\">\n",
       "      <th></th>\n",
       "      <th>FPR</th>\n",
       "      <th>TPR</th>\n",
       "      <th>Threshold</th>\n",
       "      <th>Yoden's Index</th>\n",
       "    </tr>\n",
       "  </thead>\n",
       "  <tbody>\n",
       "    <tr>\n",
       "      <th>319</th>\n",
       "      <td>0.142258</td>\n",
       "      <td>0.811667</td>\n",
       "      <td>0.340046</td>\n",
       "      <td>0.696201</td>\n",
       "    </tr>\n",
       "    <tr>\n",
       "      <th>318</th>\n",
       "      <td>0.142258</td>\n",
       "      <td>0.810833</td>\n",
       "      <td>0.344369</td>\n",
       "      <td>0.695486</td>\n",
       "    </tr>\n",
       "    <tr>\n",
       "      <th>320</th>\n",
       "      <td>0.143936</td>\n",
       "      <td>0.811667</td>\n",
       "      <td>0.336652</td>\n",
       "      <td>0.694838</td>\n",
       "    </tr>\n",
       "    <tr>\n",
       "      <th>321</th>\n",
       "      <td>0.144356</td>\n",
       "      <td>0.811667</td>\n",
       "      <td>0.335060</td>\n",
       "      <td>0.694498</td>\n",
       "    </tr>\n",
       "    <tr>\n",
       "      <th>322</th>\n",
       "      <td>0.145615</td>\n",
       "      <td>0.811667</td>\n",
       "      <td>0.334432</td>\n",
       "      <td>0.693476</td>\n",
       "    </tr>\n",
       "    <tr>\n",
       "      <th>...</th>\n",
       "      <td>...</td>\n",
       "      <td>...</td>\n",
       "      <td>...</td>\n",
       "      <td>...</td>\n",
       "    </tr>\n",
       "    <tr>\n",
       "      <th>2</th>\n",
       "      <td>0.000000</td>\n",
       "      <td>0.013333</td>\n",
       "      <td>0.983624</td>\n",
       "      <td>0.013333</td>\n",
       "    </tr>\n",
       "    <tr>\n",
       "      <th>1</th>\n",
       "      <td>0.000000</td>\n",
       "      <td>0.010833</td>\n",
       "      <td>0.986584</td>\n",
       "      <td>0.010833</td>\n",
       "    </tr>\n",
       "    <tr>\n",
       "      <th>928</th>\n",
       "      <td>0.997063</td>\n",
       "      <td>1.000000</td>\n",
       "      <td>0.000491</td>\n",
       "      <td>0.002937</td>\n",
       "    </tr>\n",
       "    <tr>\n",
       "      <th>0</th>\n",
       "      <td>0.000000</td>\n",
       "      <td>0.000000</td>\n",
       "      <td>inf</td>\n",
       "      <td>0.000000</td>\n",
       "    </tr>\n",
       "    <tr>\n",
       "      <th>929</th>\n",
       "      <td>1.000000</td>\n",
       "      <td>1.000000</td>\n",
       "      <td>0.000000</td>\n",
       "      <td>0.000000</td>\n",
       "    </tr>\n",
       "  </tbody>\n",
       "</table>\n",
       "<p>930 rows × 4 columns</p>\n",
       "</div>"
      ],
      "text/plain": [
       "          FPR       TPR  Threshold  Yoden's Index\n",
       "319  0.142258  0.811667   0.340046       0.696201\n",
       "318  0.142258  0.810833   0.344369       0.695486\n",
       "320  0.143936  0.811667   0.336652       0.694838\n",
       "321  0.144356  0.811667   0.335060       0.694498\n",
       "322  0.145615  0.811667   0.334432       0.693476\n",
       "..        ...       ...        ...            ...\n",
       "2    0.000000  0.013333   0.983624       0.013333\n",
       "1    0.000000  0.010833   0.986584       0.010833\n",
       "928  0.997063  1.000000   0.000491       0.002937\n",
       "0    0.000000  0.000000        inf       0.000000\n",
       "929  1.000000  1.000000   0.000000       0.000000\n",
       "\n",
       "[930 rows x 4 columns]"
      ]
     },
     "execution_count": 114,
     "metadata": {},
     "output_type": "execute_result"
    }
   ],
   "source": [
    "pd.DataFrame({'FPR':fpr,\n",
    "             'TPR':tpr,\n",
    "             'Threshold':thres,\n",
    "             \"Yoden's Index\":tpr*(1-fpr)}).sort_values(by=\"Yoden's Index\",ascending=False)"
   ]
  },
  {
   "cell_type": "code",
   "execution_count": 115,
   "id": "30026932",
   "metadata": {},
   "outputs": [],
   "source": [
    "pred_h = (pred_s>0.34).astype(int)"
   ]
  },
  {
   "cell_type": "code",
   "execution_count": 117,
   "id": "2d912c39",
   "metadata": {},
   "outputs": [
    {
     "name": "stdout",
     "output_type": "stream",
     "text": [
      "              precision    recall  f1-score   support\n",
      "\n",
      "           0       0.90      0.86      0.88      2383\n",
      "           1       0.74      0.81      0.78      1200\n",
      "\n",
      "    accuracy                           0.84      3583\n",
      "   macro avg       0.82      0.83      0.83      3583\n",
      "weighted avg       0.85      0.84      0.84      3583\n",
      "\n"
     ]
    }
   ],
   "source": [
    "print(classification_report(y_test,pred_h))"
   ]
  },
  {
   "cell_type": "markdown",
   "id": "174a4835",
   "metadata": {},
   "source": [
    "### Prediction"
   ]
  },
  {
   "cell_type": "code",
   "execution_count": 119,
   "id": "46cba747",
   "metadata": {},
   "outputs": [
    {
     "data": {
      "text/html": [
       "<div>\n",
       "<style scoped>\n",
       "    .dataframe tbody tr th:only-of-type {\n",
       "        vertical-align: middle;\n",
       "    }\n",
       "\n",
       "    .dataframe tbody tr th {\n",
       "        vertical-align: top;\n",
       "    }\n",
       "\n",
       "    .dataframe thead th {\n",
       "        text-align: right;\n",
       "    }\n",
       "</style>\n",
       "<table border=\"1\" class=\"dataframe\">\n",
       "  <thead>\n",
       "    <tr style=\"text-align: right;\">\n",
       "      <th></th>\n",
       "      <th>lead_time</th>\n",
       "      <th>no_of_special_requests</th>\n",
       "      <th>avg_price_per_room</th>\n",
       "      <th>no_of_adults</th>\n",
       "      <th>no_of_weekend_nights</th>\n",
       "      <th>required_car_parking_space</th>\n",
       "      <th>no_of_week_nights</th>\n",
       "      <th>Arrival_day</th>\n",
       "      <th>Arrival_month</th>\n",
       "      <th>Arrival_weekday</th>\n",
       "      <th>market_segment_type_Online</th>\n",
       "    </tr>\n",
       "  </thead>\n",
       "  <tbody>\n",
       "    <tr>\n",
       "      <th>0</th>\n",
       "      <td>0.0</td>\n",
       "      <td>0</td>\n",
       "      <td>85.03</td>\n",
       "      <td>1</td>\n",
       "      <td>1</td>\n",
       "      <td>0</td>\n",
       "      <td>0</td>\n",
       "      <td>1.0</td>\n",
       "      <td>1</td>\n",
       "      <td>4</td>\n",
       "      <td>1</td>\n",
       "    </tr>\n",
       "    <tr>\n",
       "      <th>1</th>\n",
       "      <td>34.0</td>\n",
       "      <td>2</td>\n",
       "      <td>125.10</td>\n",
       "      <td>2</td>\n",
       "      <td>2</td>\n",
       "      <td>0</td>\n",
       "      <td>0</td>\n",
       "      <td>1.0</td>\n",
       "      <td>1</td>\n",
       "      <td>4</td>\n",
       "      <td>1</td>\n",
       "    </tr>\n",
       "  </tbody>\n",
       "</table>\n",
       "</div>"
      ],
      "text/plain": [
       "   lead_time  no_of_special_requests  avg_price_per_room  no_of_adults  \\\n",
       "0        0.0                       0               85.03             1   \n",
       "1       34.0                       2              125.10             2   \n",
       "\n",
       "   no_of_weekend_nights  required_car_parking_space  no_of_week_nights  \\\n",
       "0                     1                           0                  0   \n",
       "1                     2                           0                  0   \n",
       "\n",
       "   Arrival_day  Arrival_month  Arrival_weekday  market_segment_type_Online  \n",
       "0          1.0              1                4                           1  \n",
       "1          1.0              1                4                           1  "
      ]
     },
     "execution_count": 119,
     "metadata": {},
     "output_type": "execute_result"
    }
   ],
   "source": [
    "x_train.head(2)"
   ]
  },
  {
   "cell_type": "code",
   "execution_count": 124,
   "id": "9cc2056c",
   "metadata": {},
   "outputs": [
    {
     "data": {
      "text/plain": [
       "array([0.14586321])"
      ]
     },
     "execution_count": 124,
     "metadata": {},
     "output_type": "execute_result"
    }
   ],
   "source": [
    "final_model.predict_proba([[30,1,80,2,2,1,1,4,6,1,1]])[:,1]"
   ]
  },
  {
   "cell_type": "markdown",
   "id": "c1f548df",
   "metadata": {},
   "source": [
    "### Deployment"
   ]
  },
  {
   "cell_type": "code",
   "execution_count": 125,
   "id": "65a60248",
   "metadata": {},
   "outputs": [],
   "source": [
    "# Lets save the model\n",
    "import pickle"
   ]
  },
  {
   "cell_type": "code",
   "execution_count": 127,
   "id": "4ebcac91",
   "metadata": {},
   "outputs": [],
   "source": [
    "with open('final_model.pkl','wb') as file:\n",
    "    pickle.dump(final_model,file)"
   ]
  },
  {
   "cell_type": "code",
   "execution_count": null,
   "id": "0f3860e9",
   "metadata": {},
   "outputs": [],
   "source": []
  }
 ],
 "metadata": {
  "kernelspec": {
   "display_name": "Python 3 (ipykernel)",
   "language": "python",
   "name": "python3"
  },
  "language_info": {
   "codemirror_mode": {
    "name": "ipython",
    "version": 3
   },
   "file_extension": ".py",
   "mimetype": "text/x-python",
   "name": "python",
   "nbconvert_exporter": "python",
   "pygments_lexer": "ipython3",
   "version": "3.11.7"
  }
 },
 "nbformat": 4,
 "nbformat_minor": 5
}

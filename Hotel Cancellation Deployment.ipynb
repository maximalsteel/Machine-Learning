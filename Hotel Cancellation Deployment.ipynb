{
 "cells": [
  {
   "cell_type": "code",
   "execution_count": 1,
   "id": "5f6a2e8a",
   "metadata": {},
   "outputs": [],
   "source": [
    "import gradio as gr\n",
    "import pickle"
   ]
  },
  {
   "cell_type": "code",
   "execution_count": 3,
   "id": "a00cdca1",
   "metadata": {},
   "outputs": [],
   "source": [
    "import warnings\n",
    "warnings.filterwarnings('ignore')"
   ]
  },
  {
   "cell_type": "code",
   "execution_count": 4,
   "id": "c34e1a84",
   "metadata": {},
   "outputs": [],
   "source": [
    "# Load the model\n",
    "\n",
    "with open('final_model.pkl','rb') as file:\n",
    "    final_model = pickle.load(file)"
   ]
  },
  {
   "cell_type": "code",
   "execution_count": 5,
   "id": "be61a3ca",
   "metadata": {},
   "outputs": [],
   "source": [
    "# Lets define to make prediction\n",
    "\n",
    "def prediction(lt,spreq,price,adult,wkend,park,week,arday,armnth,arwkdy,seg):\n",
    "    \n",
    "    input_data = [[lt,spreq,price,adult,wkend,park,week,arday,armnth,arwkdy,seg]]\n",
    "    \n",
    "    prob = final_model.predict_proba(input_data)[:,1][0]\n",
    "    \n",
    "    if prob>0.34:\n",
    "        return \"This booking might get canceled\"\n",
    "    else:\n",
    "        return \"This booking will not get canceled\""
   ]
  },
  {
   "cell_type": "code",
   "execution_count": 6,
   "id": "23e1df99",
   "metadata": {},
   "outputs": [
    {
     "data": {
      "text/plain": [
       "'This booking might get canceled'"
      ]
     },
     "execution_count": 6,
     "metadata": {},
     "output_type": "execute_result"
    }
   ],
   "source": [
    "prediction(60,0,100,1,2,0,2,4,6,1,1)"
   ]
  },
  {
   "cell_type": "code",
   "execution_count": 15,
   "id": "1e2a5b32",
   "metadata": {},
   "outputs": [],
   "source": [
    "iface = gr.Interface(fn=prediction,\n",
    "                    inputs=[gr.Number(label='How many prior days booking has been made'),\n",
    "                           gr.Dropdown([0,1,2,3,4,5],label='How many special request have been made?'),\n",
    "                           gr.Number(label='What is the avg room price?'),\n",
    "                           gr.Dropdown([0,1,2,3,4],label='How many adults per room?'),\n",
    "                           gr.Number(label='How many weekends are there in stay?'),\n",
    "                           gr.Dropdown([('Yes',1),('No',0)],label='Is parking included in booking?'),\n",
    "                           gr.Number(label='How many weekdays are there in stay?'),\n",
    "                           gr.Slider(minimum=1,maximum=31,step=1,label='Enter the day of arrival'),\n",
    "                           gr.Slider(minimum=1,maximum=12,step=1,label='Enter the month of arrival'),\n",
    "                           gr.Dropdown([('Mon',0),('Tue',1),('Wed',2),('Thus',3),('Fri',4),('Sat',5),('Sun',6)]\n",
    "                                       ,label='Weekday of arrival?'),\n",
    "                           gr.Dropdown([('Online',1),('Offline',0)],label='What is the mode of booking?')],\n",
    "                    \n",
    "                    outputs=gr.Textbox(label='Predicted Booking Status'),\n",
    "                    \n",
    "                    title='INN Hotels Group',\n",
    "                    \n",
    "                    description='This application will forecast cancellation of booking',\n",
    "                    \n",
    "                    allow_flagging='never')"
   ]
  },
  {
   "cell_type": "code",
   "execution_count": 16,
   "id": "f9a4a862",
   "metadata": {},
   "outputs": [
    {
     "name": "stdout",
     "output_type": "stream",
     "text": [
      "Running on local URL:  http://127.0.0.1:7864\n",
      "\n",
      "To create a public link, set `share=True` in `launch()`.\n"
     ]
    },
    {
     "data": {
      "text/html": [
       "<div><iframe src=\"http://127.0.0.1:7864/\" width=\"100%\" height=\"500\" allow=\"autoplay; camera; microphone; clipboard-read; clipboard-write;\" frameborder=\"0\" allowfullscreen></iframe></div>"
      ],
      "text/plain": [
       "<IPython.core.display.HTML object>"
      ]
     },
     "metadata": {},
     "output_type": "display_data"
    },
    {
     "data": {
      "text/plain": []
     },
     "execution_count": 16,
     "metadata": {},
     "output_type": "execute_result"
    },
    {
     "name": "stdout",
     "output_type": "stream",
     "text": [
      "IMPORTANT: You are using gradio version 4.17.0, however version 4.29.0 is available, please upgrade.\n",
      "--------\n"
     ]
    }
   ],
   "source": [
    "# Launch this interface on local server\n",
    "\n",
    "iface.launch()"
   ]
  },
  {
   "cell_type": "code",
   "execution_count": null,
   "id": "6696cd41",
   "metadata": {},
   "outputs": [],
   "source": []
  }
 ],
 "metadata": {
  "kernelspec": {
   "display_name": "Python 3 (ipykernel)",
   "language": "python",
   "name": "python3"
  },
  "language_info": {
   "codemirror_mode": {
    "name": "ipython",
    "version": 3
   },
   "file_extension": ".py",
   "mimetype": "text/x-python",
   "name": "python",
   "nbconvert_exporter": "python",
   "pygments_lexer": "ipython3",
   "version": "3.11.7"
  }
 },
 "nbformat": 4,
 "nbformat_minor": 5
}
